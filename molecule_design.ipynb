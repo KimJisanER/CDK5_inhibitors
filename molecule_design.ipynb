{
  "cells": [
    {
      "cell_type": "markdown",
      "metadata": {
        "id": "view-in-github",
        "colab_type": "text"
      },
      "source": [
        "<a href=\"https://colab.research.google.com/github/KimJisanER/CDK5_inhibitors/blob/main/molecule_design.ipynb\" target=\"_parent\"><img src=\"https://colab.research.google.com/assets/colab-badge.svg\" alt=\"Open In Colab\"/></a>"
      ]
    },
    {
      "cell_type": "code",
      "execution_count": null,
      "id": "mGBzg9bbjN2p",
      "metadata": {
        "id": "mGBzg9bbjN2p",
        "colab": {
          "base_uri": "https://localhost:8080/"
        },
        "outputId": "6e5c13f6-59f8-43b4-966f-f9b636adfd9c"
      },
      "outputs": [
        {
          "output_type": "stream",
          "name": "stdout",
          "text": [
            "Mounted at /content/drive\n"
          ]
        }
      ],
      "source": [
        "# 구글 드라이브 마운트 및 working directory 경로 설정하기\n",
        "from google.colab import drive\n",
        "drive.mount('/content/drive')\n",
        "path = '/content/drive/MyDrive/denovo/' # change the directory to yours"
      ]
    },
    {
      "cell_type": "code",
      "source": [
        "from google.colab import drive\n",
        "drive.mount('/content/drive')"
      ],
      "metadata": {
        "id": "Ot2oHhfkUAOM",
        "outputId": "132ffbf5-2702-4e34-c142-53eb98801cdf",
        "colab": {
          "base_uri": "https://localhost:8080/"
        }
      },
      "id": "Ot2oHhfkUAOM",
      "execution_count": null,
      "outputs": [
        {
          "output_type": "stream",
          "name": "stdout",
          "text": [
            "Mounted at /content/drive\n"
          ]
        }
      ]
    },
    {
      "cell_type": "code",
      "execution_count": null,
      "id": "IbedibWhnbiB",
      "metadata": {
        "id": "IbedibWhnbiB",
        "colab": {
          "base_uri": "https://localhost:8080/"
        },
        "outputId": "32989922-9243-49f9-f2ed-defcc5557101"
      },
      "outputs": [
        {
          "output_type": "stream",
          "name": "stdout",
          "text": [
            "Looking in indexes: https://pypi.org/simple, https://us-python.pkg.dev/colab-wheels/public/simple/\n",
            "Collecting rdkit\n",
            "  Downloading rdkit-2022.3.5-cp37-cp37m-manylinux_2_17_x86_64.manylinux2014_x86_64.whl (36.8 MB)\n",
            "\u001b[K     |████████████████████████████████| 36.8 MB 432 kB/s \n",
            "\u001b[?25hRequirement already satisfied: numpy in /usr/local/lib/python3.7/dist-packages (from rdkit) (1.21.6)\n",
            "Requirement already satisfied: Pillow in /usr/local/lib/python3.7/dist-packages (from rdkit) (7.1.2)\n",
            "Installing collected packages: rdkit\n",
            "Successfully installed rdkit-2022.3.5\n"
          ]
        }
      ],
      "source": [
        "!pip install rdkit"
      ]
    },
    {
      "cell_type": "markdown",
      "id": "59359a16",
      "metadata": {
        "id": "59359a16"
      },
      "source": [
        "# 랜덤 시뮬레이션"
      ]
    },
    {
      "cell_type": "code",
      "execution_count": null,
      "id": "53dc0c5e-2404-4574-9a08-6a01aec68463",
      "metadata": {
        "id": "53dc0c5e-2404-4574-9a08-6a01aec68463"
      },
      "outputs": [],
      "source": [
        "# building block과 reaction template 불러오기\n",
        "\n",
        "building_blocks = []\n",
        "reaction_templates = []\n",
        "with open(path+\"building_blocks.csv\") as fin:\n",
        "    for line in fin:\n",
        "        if line[0] == '#':\n",
        "            continue\n",
        "        content = line.rstrip('\\n').split(',')\n",
        "        smiles = content[1]\n",
        "        building_blocks.append(smiles)\n",
        "\n",
        "with open(path+\"reaction_templates.tsv\") as fin:\n",
        "    for line in fin:\n",
        "        if line[0] == '#':\n",
        "            continue\n",
        "        content = line.rstrip('\\n').split('\\t')\n",
        "        smart = content[1]\n",
        "        reaction_templates.append(smart)\n",
        "\n"
      ]
    },
    {
      "cell_type": "code",
      "execution_count": null,
      "id": "d2479c8d",
      "metadata": {
        "id": "d2479c8d",
        "colab": {
          "base_uri": "https://localhost:8080/"
        },
        "outputId": "36f3babd-88dc-4064-a1c0-6e3239ecdee3"
      },
      "outputs": [
        {
          "output_type": "stream",
          "name": "stdout",
          "text": [
            "the total number of building blocks = 100\n",
            "the total number of reaction templates = 64\n",
            "== sample building blocks ==\n",
            "CC#CCn1c(N2CCCC(NC(N)=O)C2)nc2c1c(=O)n(Cc1nc(C)c3ccccc3n1)c(=O)n2C\n",
            "CC#C[C@@H](CC(=O)O)c1ccc(OCc2cccc(-c3ccc(C(F)(F)F)cc3)c2)cc1\n",
            "CC#C[C@]1(O)CC[C@H]2[C@@H]3CCC4=CC(=O)CCC4=C3[C@@H](c3ccc(N(C)C)cc3)C[C@@]21C\n",
            "C#Cc1cccc(Nc2ncnc3cc(OCCOC)c(OCCOC)cc23)c1\n",
            "C#CCC1(C(=O)O)CCN(C(=O)OCC2c3ccccc3-c3ccccc32)CC1\n",
            "== sample reaction templates ==\n",
            "[$(C([CH2,CH3])),CH:10](=[O:11])-[NH+0:9]-[C$(C(N)(C)(C)(C)),C$([CH](N)(C)(C)),C$([CH2](N)(C)):8]-[C$(C(c)(C)(C)(C)),C$([CH](c)(C)(C)),C$([CH2](c)(C)):7]-[c:6]1[cH:1][c:2][c:3][c:4][c:5]1>>[C:10]-1=[N+0:9]-[C:8]-[C:7]-[c:6]2[c:5][c:4][c:3][c:2][c:1]-12\n",
            "[$(C([CH2,CH3])),CH:10](=[O:11])-[NH+0:9]-[C$([CH](N)(C)(C)),C$([CH2](N)(C)):8]-[C$([C](c)(C)(C)),C$([CH](c)(C)):7]([O$(OC),OH])-[c:6]1[cH:1][c:2][c:3][c:4][c:5]1>>[c:10]-1[n:9][c:8][c:7][c:6]2[c:5][c:4][c:3][c:2][c:1]-12\n",
            "[NH3+,NH2]-[C$(C(N)(C)(C)(C)),C$([CH](N)(C)(C)),C$([CH2](N)(C)):8]-[C$(C(c)(C)(C)(C)),C$([CH](c)(C)(C)),C$([CH2](c)(C)):7]-[c:6]1[c:1][c:2][c:3][c:4][cH:5]1.[CH:10](-[CX4:12])=[O:11]>>[c,C:12]-[CH:10]-1-[N]-[C:8]-[C:7]-[c:6]2[c:1][c:2][c:3][c:4][c:5]-12\n",
            "[NH3+,NH2]-[C$(C(N)(C)(C)(C)),C$([CH](N)(C)(C)),C$([CH2](N)(C)):8]-[C$(C(c)(C)(C)(C)),C$([CH](c)(C)(C)),C$([CH2](c)(C)):7]-[c:6]1[c:1][c:2][nH:3][cH:5]1.[CH:10](-[CX4:12])=[O:11]>>[c,C:12]-[CH:10]-1-[N]-[C:8]-[C:7]-[c:6]2[c:1][c:2][nH:3][c:5]-12\n",
            "[NH2,NH3+1:8]-[c:5]1[cH:4][c:3][c:2][c:1][c:6]1.[Br:18][C$([CH2](C)(Br)),C$([CH](C)(C)(Br)):17]-[C:15](=[O:16])-[c:10]1[c:11][c:12][c:13][c:14][c:9]1>>[c:13]1[c:12][c:11][c:10]([c:9][c:14]1)-[c:15]1[c:17][c:4]2[c:3][c:2][c:1][c:6][c:5]2[nH+0:8]1\n"
          ]
        }
      ],
      "source": [
        "print(f\"the total number of building blocks = {len(building_blocks)}\")\n",
        "print(f\"the total number of reaction templates = {len(reaction_templates)}\")\n",
        "print(\"== sample building blocks ==\")\n",
        "print('\\n'.join(building_blocks[0:5]))\n",
        "print(\"== sample reaction templates ==\")\n",
        "print('\\n'.join(reaction_templates[0:5]))"
      ]
    },
    {
      "cell_type": "code",
      "execution_count": null,
      "id": "4390153f",
      "metadata": {
        "id": "4390153f"
      },
      "outputs": [],
      "source": [
        "# 합성식에서 입력/출력되는 물질의 개수를 확인하는 함수를 정의하자\n",
        "\n",
        "def count_reactants(reaction_template):\n",
        "    try:\n",
        "        split_template = reaction_template.split('>')\n",
        "        # '>>' 으로 split 하지 않는 이유는 중간 합성이 있는 경우가 있기 때문\n",
        "        # 예를 들어, A.B>C.D>E\n",
        "        input_template = split_template[0]\n",
        "        output_template = split_template[-1]\n",
        "    except:\n",
        "        print(reaction_template)\n",
        "    # 합성식에서 물질은 '.'으로 구분되므로\n",
        "    input_count = len(input_template.split('.'))\n",
        "    output_count = len(output_template.split('.'))\n",
        "\n",
        "    return input_count, output_count\n"
      ]
    },
    {
      "cell_type": "code",
      "execution_count": null,
      "id": "a63cd6f9",
      "metadata": {
        "id": "a63cd6f9",
        "colab": {
          "base_uri": "https://localhost:8080/"
        },
        "outputId": "17481a0c-272a-4615-a5c0-309308e7fccf"
      },
      "outputs": [
        {
          "output_type": "stream",
          "name": "stdout",
          "text": [
            "2 1\n",
            "1 1\n"
          ]
        }
      ],
      "source": [
        "# 입력/출력 물질 개수의 최대값/최소값을 확인해 보자\n",
        "import numpy as np\n",
        "\n",
        "max_input, max_output = 0, 0\n",
        "min_input, min_output = np.inf, np.inf  # np.inf 는 무한대를 의미\n",
        "for template in reaction_templates:\n",
        "    num_in, num_out = count_reactants(template)\n",
        "    max_input = num_in if num_in > max_input else max_input\n",
        "    max_output = num_out if num_out > max_output else max_output\n",
        "    min_input = num_in if num_in < min_input else min_input\n",
        "    min_output = num_out if num_out < min_output else min_output\n",
        "\n",
        "print(max_input, max_output)\n",
        "print(min_input, min_output)\n",
        "\n",
        "# 입력 물질은 최대 2개이고 결과물은 항상 하나 뿐이라는 것을 확인"
      ]
    },
    {
      "cell_type": "code",
      "execution_count": null,
      "id": "33ecfdbe",
      "metadata": {
        "id": "33ecfdbe"
      },
      "outputs": [],
      "source": [
        "# 주어진 reaction 과 입력 물질들에 대해 sanitized 된 물질을 반환하는 함수\n",
        "from rdkit import Chem\n",
        "\n",
        "def get_sanitized_smiles(reaction, blocks):\n",
        "    sanitized_smiles = []\n",
        "    all_products = reaction.RunReactants(blocks)\n",
        "    for product in all_products:\n",
        "        try:\n",
        "            [Chem.SanitizeMol(mol) for mol in product]\n",
        "            smiles = Chem.MolToSmiles(product[0])\n",
        "            # 왜 product 뒤에 [0] 이 붙는지 생각해 보자\n",
        "            sanitized_smiles.append(smiles)\n",
        "        except ValueError:\n",
        "            continue\n",
        "\n",
        "    return sanitized_smiles  # sanitization 에 실패했다면 빈 list 반환"
      ]
    },
    {
      "cell_type": "code",
      "execution_count": null,
      "id": "3641d550",
      "metadata": {
        "id": "3641d550"
      },
      "outputs": [],
      "source": [
        "# 어떤 화합물 (target_compound) 에 대해\n",
        "# 가능한 모든 reation_template 과 building_block을 시뮬레이션해서 성공한 product를 반환\n",
        "\n",
        "import random\n",
        "from rdkit.Chem import AllChem\n",
        "\n",
        "\n",
        "def get_simulated_smiles(target_compound, reaction_templates, reactant_blocks):\n",
        "    # 매번 random 한 template을 가져오기 위해 순서를 섞는다\n",
        "    simulated_smiles = []\n",
        "    random.shuffle(reaction_templates)\n",
        "    for template in reaction_templates:\n",
        "        num_in, _ = count_reactants(template)  # 입력 물질 개수 확인\n",
        "        reaction = AllChem.ReactionFromSmarts(template)\n",
        "\n",
        "        if num_in == 1:\n",
        "            smiles = get_sanitized_smiles(reaction, (target_compound,))\n",
        "            if smiles:\n",
        "                simulated_smiles += smiles\n",
        "\n",
        "        elif num_in == 2:\n",
        "            random.shuffle(reactant_blocks)\n",
        "            for reactant in reactant_blocks:\n",
        "                smiles = get_sanitized_smiles(reaction, (target_compound, reactant))\n",
        "                if smiles:\n",
        "                    simulated_smiles += smiles\n",
        "\n",
        "    return simulated_smiles  # 그 어떤 반응도 불가능하다면 빈 list 반환"
      ]
    },
    {
      "cell_type": "code",
      "execution_count": null,
      "id": "Ds-3VFuXq-En",
      "metadata": {
        "id": "Ds-3VFuXq-En"
      },
      "outputs": [],
      "source": [
        "# QED score를 계산하는 함수를 정의\n",
        "\n",
        "from rdkit import Chem\n",
        "from rdkit.Chem import QED\n",
        "\n",
        "def get_QED(smiles):\n",
        "    mol = Chem.rdmolfiles.MolFromSmiles(smiles)\n",
        "    qed_value = QED.qed(mol)\n",
        "    return qed_value"
      ]
    },
    {
      "cell_type": "code",
      "source": [
        "import pandas as pd\n",
        "cand_20=pd.read_csv('/content/cand_aff_20.csv')\n",
        "cand_20"
      ],
      "metadata": {
        "id": "RSYPAJmEJxnE",
        "colab": {
          "base_uri": "https://localhost:8080/",
          "height": 677
        },
        "outputId": "8db8c5bb-f746-4846-fa6f-a9ab01efb120"
      },
      "id": "RSYPAJmEJxnE",
      "execution_count": null,
      "outputs": [
        {
          "output_type": "execute_result",
          "data": {
            "text/plain": [
              "             zinc_id                                             smiles  \\\n",
              "0   ZINC000006229828    O=C1Cc2cc3c(cc2N1)=NC(=O)C=3c1c(O)[nH]c2ccccc12   \n",
              "1   ZINC000051026713        C(=C\\NNc1nc2ccccc2[nH]1)\\NN=C1N=c2ccccc2=N1   \n",
              "2   ZINC000034517735        Nc1c(-c2ccccc2)nc(N2C=NNN2)c2c1C(=O)N=NC2=O   \n",
              "3   ZINC000034019690      NS(=O)(=O)c1ccc2c(c1)/C(=C1\\C=c3ccccc3=N1)NN2   \n",
              "4   ZINC000034041319        NS(=O)(=O)c1ccc2c(c1)NN/C2=C1/C=c2ccccc2=N1   \n",
              "5   ZINC000049436021     N#C[C@@H](C(=O)Cc1ccc2c(c1)CCC2)c1nc(N)nc(N)n1   \n",
              "6   ZINC000001571412     Cc1cc2c(c3ccccc13)/C(=N/NC(=N)N)C(NNC(=N)N)=C2   \n",
              "7   ZINC000048648328        Cc1noc2ncc(/C(O)=N/S(=O)(=O)c3cnn(C)c3)cc12   \n",
              "8   ZINC000034004809            N=C1NN=C(NC(=O)NCc2ccncc2)/C1=C1/C=CSN1   \n",
              "9   ZINC000038482733           O=C(NCc1cccnc1)c1cc(-c2c[nH]ccc2=O)nnc1O   \n",
              "10  ZINC000030113633     N#Cc1nc(NC(=O)[C@H]2CCCN(c3cnccn3)C2)[nH]c1C#N   \n",
              "11  ZINC000001725044         C/C(Oc1ccc(Cl)cc1)=C(\\C=N\\NC(=N)N)NNC(=N)N   \n",
              "12  ZINC000054427324  Cc1cc(/C(O)=N/S(=O)(=O)c2ccc3c(c2)CC(=O)N3)[nH]n1   \n",
              "13  ZINC000001921090     O=C(CSc1nc2ccccc2[nH]1)Nc1cc(=O)[nH]c(=O)[nH]1   \n",
              "14  ZINC000052470517           O=C(Nc1cnccn1)C1CCN(c2ncnc3[nH]cnc23)CC1   \n",
              "15  ZINC000035010083        O=C1c2ccccc2C(=O)N1C/C=C/Cn1ccc(=O)[nH]c1=O   \n",
              "16  ZINC000048551882       O=C1Cc2cc(S(=O)(=O)/N=C(\\O)c3ccn[nH]3)ccc2N1   \n",
              "17  ZINC000049434742    N#C[C@@H](C(=O)Cc1c[nH]c2ccccc12)c1nc(N)nc(N)n1   \n",
              "18  ZINC000049436020      N#C[C@H](C(=O)Cc1ccc2c(c1)CCC2)c1nc(N)nc(N)n1   \n",
              "19  ZINC000049436866    N#C[C@H](C(=O)c1cc(=O)c2ccccc2o1)c1nc(N)nc(N)n1   \n",
              "\n",
              "    pChEMBL Value  dock_affinity(kcal/mol)  \n",
              "0        7.754521                     -9.6  \n",
              "1        8.189313                     -8.9  \n",
              "2        7.737163                     -8.8  \n",
              "3        8.231194                     -8.6  \n",
              "4        8.158154                     -8.4  \n",
              "5        7.724362                     -8.4  \n",
              "6        8.576921                     -8.3  \n",
              "7        7.798574                     -8.2  \n",
              "8        8.481629                     -8.1  \n",
              "9        7.877810                     -8.0  \n",
              "10       7.793255                     -8.0  \n",
              "11       8.039078                     -8.0  \n",
              "12       7.783028                     -8.0  \n",
              "13       7.893669                     -8.0  \n",
              "14       7.735886                     -8.0  \n",
              "15       7.760980                     -7.9  \n",
              "16       7.768223                     -7.9  \n",
              "17       7.987357                     -7.9  \n",
              "18       7.724362                     -7.9  \n",
              "19       8.519458                     -7.9  "
            ],
            "text/html": [
              "\n",
              "  <div id=\"df-0586eb36-1d26-4eaf-92a1-af4867964ef5\">\n",
              "    <div class=\"colab-df-container\">\n",
              "      <div>\n",
              "<style scoped>\n",
              "    .dataframe tbody tr th:only-of-type {\n",
              "        vertical-align: middle;\n",
              "    }\n",
              "\n",
              "    .dataframe tbody tr th {\n",
              "        vertical-align: top;\n",
              "    }\n",
              "\n",
              "    .dataframe thead th {\n",
              "        text-align: right;\n",
              "    }\n",
              "</style>\n",
              "<table border=\"1\" class=\"dataframe\">\n",
              "  <thead>\n",
              "    <tr style=\"text-align: right;\">\n",
              "      <th></th>\n",
              "      <th>zinc_id</th>\n",
              "      <th>smiles</th>\n",
              "      <th>pChEMBL Value</th>\n",
              "      <th>dock_affinity(kcal/mol)</th>\n",
              "    </tr>\n",
              "  </thead>\n",
              "  <tbody>\n",
              "    <tr>\n",
              "      <th>0</th>\n",
              "      <td>ZINC000006229828</td>\n",
              "      <td>O=C1Cc2cc3c(cc2N1)=NC(=O)C=3c1c(O)[nH]c2ccccc12</td>\n",
              "      <td>7.754521</td>\n",
              "      <td>-9.6</td>\n",
              "    </tr>\n",
              "    <tr>\n",
              "      <th>1</th>\n",
              "      <td>ZINC000051026713</td>\n",
              "      <td>C(=C\\NNc1nc2ccccc2[nH]1)\\NN=C1N=c2ccccc2=N1</td>\n",
              "      <td>8.189313</td>\n",
              "      <td>-8.9</td>\n",
              "    </tr>\n",
              "    <tr>\n",
              "      <th>2</th>\n",
              "      <td>ZINC000034517735</td>\n",
              "      <td>Nc1c(-c2ccccc2)nc(N2C=NNN2)c2c1C(=O)N=NC2=O</td>\n",
              "      <td>7.737163</td>\n",
              "      <td>-8.8</td>\n",
              "    </tr>\n",
              "    <tr>\n",
              "      <th>3</th>\n",
              "      <td>ZINC000034019690</td>\n",
              "      <td>NS(=O)(=O)c1ccc2c(c1)/C(=C1\\C=c3ccccc3=N1)NN2</td>\n",
              "      <td>8.231194</td>\n",
              "      <td>-8.6</td>\n",
              "    </tr>\n",
              "    <tr>\n",
              "      <th>4</th>\n",
              "      <td>ZINC000034041319</td>\n",
              "      <td>NS(=O)(=O)c1ccc2c(c1)NN/C2=C1/C=c2ccccc2=N1</td>\n",
              "      <td>8.158154</td>\n",
              "      <td>-8.4</td>\n",
              "    </tr>\n",
              "    <tr>\n",
              "      <th>5</th>\n",
              "      <td>ZINC000049436021</td>\n",
              "      <td>N#C[C@@H](C(=O)Cc1ccc2c(c1)CCC2)c1nc(N)nc(N)n1</td>\n",
              "      <td>7.724362</td>\n",
              "      <td>-8.4</td>\n",
              "    </tr>\n",
              "    <tr>\n",
              "      <th>6</th>\n",
              "      <td>ZINC000001571412</td>\n",
              "      <td>Cc1cc2c(c3ccccc13)/C(=N/NC(=N)N)C(NNC(=N)N)=C2</td>\n",
              "      <td>8.576921</td>\n",
              "      <td>-8.3</td>\n",
              "    </tr>\n",
              "    <tr>\n",
              "      <th>7</th>\n",
              "      <td>ZINC000048648328</td>\n",
              "      <td>Cc1noc2ncc(/C(O)=N/S(=O)(=O)c3cnn(C)c3)cc12</td>\n",
              "      <td>7.798574</td>\n",
              "      <td>-8.2</td>\n",
              "    </tr>\n",
              "    <tr>\n",
              "      <th>8</th>\n",
              "      <td>ZINC000034004809</td>\n",
              "      <td>N=C1NN=C(NC(=O)NCc2ccncc2)/C1=C1/C=CSN1</td>\n",
              "      <td>8.481629</td>\n",
              "      <td>-8.1</td>\n",
              "    </tr>\n",
              "    <tr>\n",
              "      <th>9</th>\n",
              "      <td>ZINC000038482733</td>\n",
              "      <td>O=C(NCc1cccnc1)c1cc(-c2c[nH]ccc2=O)nnc1O</td>\n",
              "      <td>7.877810</td>\n",
              "      <td>-8.0</td>\n",
              "    </tr>\n",
              "    <tr>\n",
              "      <th>10</th>\n",
              "      <td>ZINC000030113633</td>\n",
              "      <td>N#Cc1nc(NC(=O)[C@H]2CCCN(c3cnccn3)C2)[nH]c1C#N</td>\n",
              "      <td>7.793255</td>\n",
              "      <td>-8.0</td>\n",
              "    </tr>\n",
              "    <tr>\n",
              "      <th>11</th>\n",
              "      <td>ZINC000001725044</td>\n",
              "      <td>C/C(Oc1ccc(Cl)cc1)=C(\\C=N\\NC(=N)N)NNC(=N)N</td>\n",
              "      <td>8.039078</td>\n",
              "      <td>-8.0</td>\n",
              "    </tr>\n",
              "    <tr>\n",
              "      <th>12</th>\n",
              "      <td>ZINC000054427324</td>\n",
              "      <td>Cc1cc(/C(O)=N/S(=O)(=O)c2ccc3c(c2)CC(=O)N3)[nH]n1</td>\n",
              "      <td>7.783028</td>\n",
              "      <td>-8.0</td>\n",
              "    </tr>\n",
              "    <tr>\n",
              "      <th>13</th>\n",
              "      <td>ZINC000001921090</td>\n",
              "      <td>O=C(CSc1nc2ccccc2[nH]1)Nc1cc(=O)[nH]c(=O)[nH]1</td>\n",
              "      <td>7.893669</td>\n",
              "      <td>-8.0</td>\n",
              "    </tr>\n",
              "    <tr>\n",
              "      <th>14</th>\n",
              "      <td>ZINC000052470517</td>\n",
              "      <td>O=C(Nc1cnccn1)C1CCN(c2ncnc3[nH]cnc23)CC1</td>\n",
              "      <td>7.735886</td>\n",
              "      <td>-8.0</td>\n",
              "    </tr>\n",
              "    <tr>\n",
              "      <th>15</th>\n",
              "      <td>ZINC000035010083</td>\n",
              "      <td>O=C1c2ccccc2C(=O)N1C/C=C/Cn1ccc(=O)[nH]c1=O</td>\n",
              "      <td>7.760980</td>\n",
              "      <td>-7.9</td>\n",
              "    </tr>\n",
              "    <tr>\n",
              "      <th>16</th>\n",
              "      <td>ZINC000048551882</td>\n",
              "      <td>O=C1Cc2cc(S(=O)(=O)/N=C(\\O)c3ccn[nH]3)ccc2N1</td>\n",
              "      <td>7.768223</td>\n",
              "      <td>-7.9</td>\n",
              "    </tr>\n",
              "    <tr>\n",
              "      <th>17</th>\n",
              "      <td>ZINC000049434742</td>\n",
              "      <td>N#C[C@@H](C(=O)Cc1c[nH]c2ccccc12)c1nc(N)nc(N)n1</td>\n",
              "      <td>7.987357</td>\n",
              "      <td>-7.9</td>\n",
              "    </tr>\n",
              "    <tr>\n",
              "      <th>18</th>\n",
              "      <td>ZINC000049436020</td>\n",
              "      <td>N#C[C@H](C(=O)Cc1ccc2c(c1)CCC2)c1nc(N)nc(N)n1</td>\n",
              "      <td>7.724362</td>\n",
              "      <td>-7.9</td>\n",
              "    </tr>\n",
              "    <tr>\n",
              "      <th>19</th>\n",
              "      <td>ZINC000049436866</td>\n",
              "      <td>N#C[C@H](C(=O)c1cc(=O)c2ccccc2o1)c1nc(N)nc(N)n1</td>\n",
              "      <td>8.519458</td>\n",
              "      <td>-7.9</td>\n",
              "    </tr>\n",
              "  </tbody>\n",
              "</table>\n",
              "</div>\n",
              "      <button class=\"colab-df-convert\" onclick=\"convertToInteractive('df-0586eb36-1d26-4eaf-92a1-af4867964ef5')\"\n",
              "              title=\"Convert this dataframe to an interactive table.\"\n",
              "              style=\"display:none;\">\n",
              "        \n",
              "  <svg xmlns=\"http://www.w3.org/2000/svg\" height=\"24px\"viewBox=\"0 0 24 24\"\n",
              "       width=\"24px\">\n",
              "    <path d=\"M0 0h24v24H0V0z\" fill=\"none\"/>\n",
              "    <path d=\"M18.56 5.44l.94 2.06.94-2.06 2.06-.94-2.06-.94-.94-2.06-.94 2.06-2.06.94zm-11 1L8.5 8.5l.94-2.06 2.06-.94-2.06-.94L8.5 2.5l-.94 2.06-2.06.94zm10 10l.94 2.06.94-2.06 2.06-.94-2.06-.94-.94-2.06-.94 2.06-2.06.94z\"/><path d=\"M17.41 7.96l-1.37-1.37c-.4-.4-.92-.59-1.43-.59-.52 0-1.04.2-1.43.59L10.3 9.45l-7.72 7.72c-.78.78-.78 2.05 0 2.83L4 21.41c.39.39.9.59 1.41.59.51 0 1.02-.2 1.41-.59l7.78-7.78 2.81-2.81c.8-.78.8-2.07 0-2.86zM5.41 20L4 18.59l7.72-7.72 1.47 1.35L5.41 20z\"/>\n",
              "  </svg>\n",
              "      </button>\n",
              "      \n",
              "  <style>\n",
              "    .colab-df-container {\n",
              "      display:flex;\n",
              "      flex-wrap:wrap;\n",
              "      gap: 12px;\n",
              "    }\n",
              "\n",
              "    .colab-df-convert {\n",
              "      background-color: #E8F0FE;\n",
              "      border: none;\n",
              "      border-radius: 50%;\n",
              "      cursor: pointer;\n",
              "      display: none;\n",
              "      fill: #1967D2;\n",
              "      height: 32px;\n",
              "      padding: 0 0 0 0;\n",
              "      width: 32px;\n",
              "    }\n",
              "\n",
              "    .colab-df-convert:hover {\n",
              "      background-color: #E2EBFA;\n",
              "      box-shadow: 0px 1px 2px rgba(60, 64, 67, 0.3), 0px 1px 3px 1px rgba(60, 64, 67, 0.15);\n",
              "      fill: #174EA6;\n",
              "    }\n",
              "\n",
              "    [theme=dark] .colab-df-convert {\n",
              "      background-color: #3B4455;\n",
              "      fill: #D2E3FC;\n",
              "    }\n",
              "\n",
              "    [theme=dark] .colab-df-convert:hover {\n",
              "      background-color: #434B5C;\n",
              "      box-shadow: 0px 1px 3px 1px rgba(0, 0, 0, 0.15);\n",
              "      filter: drop-shadow(0px 1px 2px rgba(0, 0, 0, 0.3));\n",
              "      fill: #FFFFFF;\n",
              "    }\n",
              "  </style>\n",
              "\n",
              "      <script>\n",
              "        const buttonEl =\n",
              "          document.querySelector('#df-0586eb36-1d26-4eaf-92a1-af4867964ef5 button.colab-df-convert');\n",
              "        buttonEl.style.display =\n",
              "          google.colab.kernel.accessAllowed ? 'block' : 'none';\n",
              "\n",
              "        async function convertToInteractive(key) {\n",
              "          const element = document.querySelector('#df-0586eb36-1d26-4eaf-92a1-af4867964ef5');\n",
              "          const dataTable =\n",
              "            await google.colab.kernel.invokeFunction('convertToInteractive',\n",
              "                                                     [key], {});\n",
              "          if (!dataTable) return;\n",
              "\n",
              "          const docLinkHtml = 'Like what you see? Visit the ' +\n",
              "            '<a target=\"_blank\" href=https://colab.research.google.com/notebooks/data_table.ipynb>data table notebook</a>'\n",
              "            + ' to learn more about interactive tables.';\n",
              "          element.innerHTML = '';\n",
              "          dataTable['output_type'] = 'display_data';\n",
              "          await google.colab.output.renderOutput(dataTable, element);\n",
              "          const docLink = document.createElement('div');\n",
              "          docLink.innerHTML = docLinkHtml;\n",
              "          element.appendChild(docLink);\n",
              "        }\n",
              "      </script>\n",
              "    </div>\n",
              "  </div>\n",
              "  "
            ]
          },
          "metadata": {},
          "execution_count": 11
        }
      ]
    },
    {
      "cell_type": "markdown",
      "source": [
        "## QED score 확인 "
      ],
      "metadata": {
        "id": "SMZ-SK-s7pi4"
      },
      "id": "SMZ-SK-s7pi4"
    },
    {
      "cell_type": "code",
      "source": [
        "cand_20['QED']=cand_20['smiles'].map(get_QED)\n",
        "cand_20=cand_20.sort_values(by=['QED'],ascending=False)"
      ],
      "metadata": {
        "id": "eBtPqzk7KmJZ"
      },
      "id": "eBtPqzk7KmJZ",
      "execution_count": null,
      "outputs": []
    },
    {
      "cell_type": "code",
      "source": [
        "cand_20"
      ],
      "metadata": {
        "colab": {
          "base_uri": "https://localhost:8080/",
          "height": 677
        },
        "id": "nDHjDuraLkMA",
        "outputId": "35576211-ac96-46ac-f9e8-f5322e9a8465"
      },
      "id": "nDHjDuraLkMA",
      "execution_count": null,
      "outputs": [
        {
          "output_type": "execute_result",
          "data": {
            "text/plain": [
              "             zinc_id                                             smiles  \\\n",
              "5   ZINC000049436021     N#C[C@@H](C(=O)Cc1ccc2c(c1)CCC2)c1nc(N)nc(N)n1   \n",
              "18  ZINC000049436020      N#C[C@H](C(=O)Cc1ccc2c(c1)CCC2)c1nc(N)nc(N)n1   \n",
              "10  ZINC000030113633     N#Cc1nc(NC(=O)[C@H]2CCCN(c3cnccn3)C2)[nH]c1C#N   \n",
              "2   ZINC000034517735        Nc1c(-c2ccccc2)nc(N2C=NNN2)c2c1C(=O)N=NC2=O   \n",
              "14  ZINC000052470517           O=C(Nc1cnccn1)C1CCN(c2ncnc3[nH]cnc23)CC1   \n",
              "3   ZINC000034019690      NS(=O)(=O)c1ccc2c(c1)/C(=C1\\C=c3ccccc3=N1)NN2   \n",
              "4   ZINC000034041319        NS(=O)(=O)c1ccc2c(c1)NN/C2=C1/C=c2ccccc2=N1   \n",
              "19  ZINC000049436866    N#C[C@H](C(=O)c1cc(=O)c2ccccc2o1)c1nc(N)nc(N)n1   \n",
              "9   ZINC000038482733           O=C(NCc1cccnc1)c1cc(-c2c[nH]ccc2=O)nnc1O   \n",
              "15  ZINC000035010083        O=C1c2ccccc2C(=O)N1C/C=C/Cn1ccc(=O)[nH]c1=O   \n",
              "17  ZINC000049434742    N#C[C@@H](C(=O)Cc1c[nH]c2ccccc12)c1nc(N)nc(N)n1   \n",
              "0   ZINC000006229828    O=C1Cc2cc3c(cc2N1)=NC(=O)C=3c1c(O)[nH]c2ccccc12   \n",
              "12  ZINC000054427324  Cc1cc(/C(O)=N/S(=O)(=O)c2ccc3c(c2)CC(=O)N3)[nH]n1   \n",
              "16  ZINC000048551882       O=C1Cc2cc(S(=O)(=O)/N=C(\\O)c3ccn[nH]3)ccc2N1   \n",
              "7   ZINC000048648328        Cc1noc2ncc(/C(O)=N/S(=O)(=O)c3cnn(C)c3)cc12   \n",
              "13  ZINC000001921090     O=C(CSc1nc2ccccc2[nH]1)Nc1cc(=O)[nH]c(=O)[nH]1   \n",
              "1   ZINC000051026713        C(=C\\NNc1nc2ccccc2[nH]1)\\NN=C1N=c2ccccc2=N1   \n",
              "8   ZINC000034004809            N=C1NN=C(NC(=O)NCc2ccncc2)/C1=C1/C=CSN1   \n",
              "6   ZINC000001571412     Cc1cc2c(c3ccccc13)/C(=N/NC(=N)N)C(NNC(=N)N)=C2   \n",
              "11  ZINC000001725044         C/C(Oc1ccc(Cl)cc1)=C(\\C=N\\NC(=N)N)NNC(=N)N   \n",
              "\n",
              "    pChEMBL Value  dock_affinity(kcal/mol)       QED  \n",
              "5        7.724362                     -8.4  0.858638  \n",
              "18       7.724362                     -7.9  0.858638  \n",
              "10       7.793255                     -8.0  0.852817  \n",
              "2        7.737163                     -8.8  0.744776  \n",
              "14       7.735886                     -8.0  0.738607  \n",
              "3        8.231194                     -8.6  0.692854  \n",
              "4        8.158154                     -8.4  0.692854  \n",
              "19       8.519458                     -7.9  0.658244  \n",
              "9        7.877810                     -8.0  0.654683  \n",
              "15       7.760980                     -7.9  0.652810  \n",
              "17       7.987357                     -7.9  0.649077  \n",
              "0        7.754521                     -9.6  0.617273  \n",
              "12       7.783028                     -8.0  0.572367  \n",
              "16       7.768223                     -7.9  0.565399  \n",
              "7        7.798574                     -8.2  0.562466  \n",
              "13       7.893669                     -8.0  0.526593  \n",
              "1        8.189313                     -8.9  0.521737  \n",
              "8        8.481629                     -8.1  0.517831  \n",
              "6        8.576921                     -8.3  0.251966  \n",
              "11       8.039078                     -8.0  0.173652  "
            ],
            "text/html": [
              "\n",
              "  <div id=\"df-a0c1c3e3-6b49-48b9-a949-3f96f284a2ae\">\n",
              "    <div class=\"colab-df-container\">\n",
              "      <div>\n",
              "<style scoped>\n",
              "    .dataframe tbody tr th:only-of-type {\n",
              "        vertical-align: middle;\n",
              "    }\n",
              "\n",
              "    .dataframe tbody tr th {\n",
              "        vertical-align: top;\n",
              "    }\n",
              "\n",
              "    .dataframe thead th {\n",
              "        text-align: right;\n",
              "    }\n",
              "</style>\n",
              "<table border=\"1\" class=\"dataframe\">\n",
              "  <thead>\n",
              "    <tr style=\"text-align: right;\">\n",
              "      <th></th>\n",
              "      <th>zinc_id</th>\n",
              "      <th>smiles</th>\n",
              "      <th>pChEMBL Value</th>\n",
              "      <th>dock_affinity(kcal/mol)</th>\n",
              "      <th>QED</th>\n",
              "    </tr>\n",
              "  </thead>\n",
              "  <tbody>\n",
              "    <tr>\n",
              "      <th>5</th>\n",
              "      <td>ZINC000049436021</td>\n",
              "      <td>N#C[C@@H](C(=O)Cc1ccc2c(c1)CCC2)c1nc(N)nc(N)n1</td>\n",
              "      <td>7.724362</td>\n",
              "      <td>-8.4</td>\n",
              "      <td>0.858638</td>\n",
              "    </tr>\n",
              "    <tr>\n",
              "      <th>18</th>\n",
              "      <td>ZINC000049436020</td>\n",
              "      <td>N#C[C@H](C(=O)Cc1ccc2c(c1)CCC2)c1nc(N)nc(N)n1</td>\n",
              "      <td>7.724362</td>\n",
              "      <td>-7.9</td>\n",
              "      <td>0.858638</td>\n",
              "    </tr>\n",
              "    <tr>\n",
              "      <th>10</th>\n",
              "      <td>ZINC000030113633</td>\n",
              "      <td>N#Cc1nc(NC(=O)[C@H]2CCCN(c3cnccn3)C2)[nH]c1C#N</td>\n",
              "      <td>7.793255</td>\n",
              "      <td>-8.0</td>\n",
              "      <td>0.852817</td>\n",
              "    </tr>\n",
              "    <tr>\n",
              "      <th>2</th>\n",
              "      <td>ZINC000034517735</td>\n",
              "      <td>Nc1c(-c2ccccc2)nc(N2C=NNN2)c2c1C(=O)N=NC2=O</td>\n",
              "      <td>7.737163</td>\n",
              "      <td>-8.8</td>\n",
              "      <td>0.744776</td>\n",
              "    </tr>\n",
              "    <tr>\n",
              "      <th>14</th>\n",
              "      <td>ZINC000052470517</td>\n",
              "      <td>O=C(Nc1cnccn1)C1CCN(c2ncnc3[nH]cnc23)CC1</td>\n",
              "      <td>7.735886</td>\n",
              "      <td>-8.0</td>\n",
              "      <td>0.738607</td>\n",
              "    </tr>\n",
              "    <tr>\n",
              "      <th>3</th>\n",
              "      <td>ZINC000034019690</td>\n",
              "      <td>NS(=O)(=O)c1ccc2c(c1)/C(=C1\\C=c3ccccc3=N1)NN2</td>\n",
              "      <td>8.231194</td>\n",
              "      <td>-8.6</td>\n",
              "      <td>0.692854</td>\n",
              "    </tr>\n",
              "    <tr>\n",
              "      <th>4</th>\n",
              "      <td>ZINC000034041319</td>\n",
              "      <td>NS(=O)(=O)c1ccc2c(c1)NN/C2=C1/C=c2ccccc2=N1</td>\n",
              "      <td>8.158154</td>\n",
              "      <td>-8.4</td>\n",
              "      <td>0.692854</td>\n",
              "    </tr>\n",
              "    <tr>\n",
              "      <th>19</th>\n",
              "      <td>ZINC000049436866</td>\n",
              "      <td>N#C[C@H](C(=O)c1cc(=O)c2ccccc2o1)c1nc(N)nc(N)n1</td>\n",
              "      <td>8.519458</td>\n",
              "      <td>-7.9</td>\n",
              "      <td>0.658244</td>\n",
              "    </tr>\n",
              "    <tr>\n",
              "      <th>9</th>\n",
              "      <td>ZINC000038482733</td>\n",
              "      <td>O=C(NCc1cccnc1)c1cc(-c2c[nH]ccc2=O)nnc1O</td>\n",
              "      <td>7.877810</td>\n",
              "      <td>-8.0</td>\n",
              "      <td>0.654683</td>\n",
              "    </tr>\n",
              "    <tr>\n",
              "      <th>15</th>\n",
              "      <td>ZINC000035010083</td>\n",
              "      <td>O=C1c2ccccc2C(=O)N1C/C=C/Cn1ccc(=O)[nH]c1=O</td>\n",
              "      <td>7.760980</td>\n",
              "      <td>-7.9</td>\n",
              "      <td>0.652810</td>\n",
              "    </tr>\n",
              "    <tr>\n",
              "      <th>17</th>\n",
              "      <td>ZINC000049434742</td>\n",
              "      <td>N#C[C@@H](C(=O)Cc1c[nH]c2ccccc12)c1nc(N)nc(N)n1</td>\n",
              "      <td>7.987357</td>\n",
              "      <td>-7.9</td>\n",
              "      <td>0.649077</td>\n",
              "    </tr>\n",
              "    <tr>\n",
              "      <th>0</th>\n",
              "      <td>ZINC000006229828</td>\n",
              "      <td>O=C1Cc2cc3c(cc2N1)=NC(=O)C=3c1c(O)[nH]c2ccccc12</td>\n",
              "      <td>7.754521</td>\n",
              "      <td>-9.6</td>\n",
              "      <td>0.617273</td>\n",
              "    </tr>\n",
              "    <tr>\n",
              "      <th>12</th>\n",
              "      <td>ZINC000054427324</td>\n",
              "      <td>Cc1cc(/C(O)=N/S(=O)(=O)c2ccc3c(c2)CC(=O)N3)[nH]n1</td>\n",
              "      <td>7.783028</td>\n",
              "      <td>-8.0</td>\n",
              "      <td>0.572367</td>\n",
              "    </tr>\n",
              "    <tr>\n",
              "      <th>16</th>\n",
              "      <td>ZINC000048551882</td>\n",
              "      <td>O=C1Cc2cc(S(=O)(=O)/N=C(\\O)c3ccn[nH]3)ccc2N1</td>\n",
              "      <td>7.768223</td>\n",
              "      <td>-7.9</td>\n",
              "      <td>0.565399</td>\n",
              "    </tr>\n",
              "    <tr>\n",
              "      <th>7</th>\n",
              "      <td>ZINC000048648328</td>\n",
              "      <td>Cc1noc2ncc(/C(O)=N/S(=O)(=O)c3cnn(C)c3)cc12</td>\n",
              "      <td>7.798574</td>\n",
              "      <td>-8.2</td>\n",
              "      <td>0.562466</td>\n",
              "    </tr>\n",
              "    <tr>\n",
              "      <th>13</th>\n",
              "      <td>ZINC000001921090</td>\n",
              "      <td>O=C(CSc1nc2ccccc2[nH]1)Nc1cc(=O)[nH]c(=O)[nH]1</td>\n",
              "      <td>7.893669</td>\n",
              "      <td>-8.0</td>\n",
              "      <td>0.526593</td>\n",
              "    </tr>\n",
              "    <tr>\n",
              "      <th>1</th>\n",
              "      <td>ZINC000051026713</td>\n",
              "      <td>C(=C\\NNc1nc2ccccc2[nH]1)\\NN=C1N=c2ccccc2=N1</td>\n",
              "      <td>8.189313</td>\n",
              "      <td>-8.9</td>\n",
              "      <td>0.521737</td>\n",
              "    </tr>\n",
              "    <tr>\n",
              "      <th>8</th>\n",
              "      <td>ZINC000034004809</td>\n",
              "      <td>N=C1NN=C(NC(=O)NCc2ccncc2)/C1=C1/C=CSN1</td>\n",
              "      <td>8.481629</td>\n",
              "      <td>-8.1</td>\n",
              "      <td>0.517831</td>\n",
              "    </tr>\n",
              "    <tr>\n",
              "      <th>6</th>\n",
              "      <td>ZINC000001571412</td>\n",
              "      <td>Cc1cc2c(c3ccccc13)/C(=N/NC(=N)N)C(NNC(=N)N)=C2</td>\n",
              "      <td>8.576921</td>\n",
              "      <td>-8.3</td>\n",
              "      <td>0.251966</td>\n",
              "    </tr>\n",
              "    <tr>\n",
              "      <th>11</th>\n",
              "      <td>ZINC000001725044</td>\n",
              "      <td>C/C(Oc1ccc(Cl)cc1)=C(\\C=N\\NC(=N)N)NNC(=N)N</td>\n",
              "      <td>8.039078</td>\n",
              "      <td>-8.0</td>\n",
              "      <td>0.173652</td>\n",
              "    </tr>\n",
              "  </tbody>\n",
              "</table>\n",
              "</div>\n",
              "      <button class=\"colab-df-convert\" onclick=\"convertToInteractive('df-a0c1c3e3-6b49-48b9-a949-3f96f284a2ae')\"\n",
              "              title=\"Convert this dataframe to an interactive table.\"\n",
              "              style=\"display:none;\">\n",
              "        \n",
              "  <svg xmlns=\"http://www.w3.org/2000/svg\" height=\"24px\"viewBox=\"0 0 24 24\"\n",
              "       width=\"24px\">\n",
              "    <path d=\"M0 0h24v24H0V0z\" fill=\"none\"/>\n",
              "    <path d=\"M18.56 5.44l.94 2.06.94-2.06 2.06-.94-2.06-.94-.94-2.06-.94 2.06-2.06.94zm-11 1L8.5 8.5l.94-2.06 2.06-.94-2.06-.94L8.5 2.5l-.94 2.06-2.06.94zm10 10l.94 2.06.94-2.06 2.06-.94-2.06-.94-.94-2.06-.94 2.06-2.06.94z\"/><path d=\"M17.41 7.96l-1.37-1.37c-.4-.4-.92-.59-1.43-.59-.52 0-1.04.2-1.43.59L10.3 9.45l-7.72 7.72c-.78.78-.78 2.05 0 2.83L4 21.41c.39.39.9.59 1.41.59.51 0 1.02-.2 1.41-.59l7.78-7.78 2.81-2.81c.8-.78.8-2.07 0-2.86zM5.41 20L4 18.59l7.72-7.72 1.47 1.35L5.41 20z\"/>\n",
              "  </svg>\n",
              "      </button>\n",
              "      \n",
              "  <style>\n",
              "    .colab-df-container {\n",
              "      display:flex;\n",
              "      flex-wrap:wrap;\n",
              "      gap: 12px;\n",
              "    }\n",
              "\n",
              "    .colab-df-convert {\n",
              "      background-color: #E8F0FE;\n",
              "      border: none;\n",
              "      border-radius: 50%;\n",
              "      cursor: pointer;\n",
              "      display: none;\n",
              "      fill: #1967D2;\n",
              "      height: 32px;\n",
              "      padding: 0 0 0 0;\n",
              "      width: 32px;\n",
              "    }\n",
              "\n",
              "    .colab-df-convert:hover {\n",
              "      background-color: #E2EBFA;\n",
              "      box-shadow: 0px 1px 2px rgba(60, 64, 67, 0.3), 0px 1px 3px 1px rgba(60, 64, 67, 0.15);\n",
              "      fill: #174EA6;\n",
              "    }\n",
              "\n",
              "    [theme=dark] .colab-df-convert {\n",
              "      background-color: #3B4455;\n",
              "      fill: #D2E3FC;\n",
              "    }\n",
              "\n",
              "    [theme=dark] .colab-df-convert:hover {\n",
              "      background-color: #434B5C;\n",
              "      box-shadow: 0px 1px 3px 1px rgba(0, 0, 0, 0.15);\n",
              "      filter: drop-shadow(0px 1px 2px rgba(0, 0, 0, 0.3));\n",
              "      fill: #FFFFFF;\n",
              "    }\n",
              "  </style>\n",
              "\n",
              "      <script>\n",
              "        const buttonEl =\n",
              "          document.querySelector('#df-a0c1c3e3-6b49-48b9-a949-3f96f284a2ae button.colab-df-convert');\n",
              "        buttonEl.style.display =\n",
              "          google.colab.kernel.accessAllowed ? 'block' : 'none';\n",
              "\n",
              "        async function convertToInteractive(key) {\n",
              "          const element = document.querySelector('#df-a0c1c3e3-6b49-48b9-a949-3f96f284a2ae');\n",
              "          const dataTable =\n",
              "            await google.colab.kernel.invokeFunction('convertToInteractive',\n",
              "                                                     [key], {});\n",
              "          if (!dataTable) return;\n",
              "\n",
              "          const docLinkHtml = 'Like what you see? Visit the ' +\n",
              "            '<a target=\"_blank\" href=https://colab.research.google.com/notebooks/data_table.ipynb>data table notebook</a>'\n",
              "            + ' to learn more about interactive tables.';\n",
              "          element.innerHTML = '';\n",
              "          dataTable['output_type'] = 'display_data';\n",
              "          await google.colab.output.renderOutput(dataTable, element);\n",
              "          const docLink = document.createElement('div');\n",
              "          docLink.innerHTML = docLinkHtml;\n",
              "          element.appendChild(docLink);\n",
              "        }\n",
              "      </script>\n",
              "    </div>\n",
              "  </div>\n",
              "  "
            ]
          },
          "metadata": {},
          "execution_count": 16
        }
      ]
    },
    {
      "cell_type": "markdown",
      "source": [
        "### 후보물질 중 QED score 상위 10개만 추출"
      ],
      "metadata": {
        "id": "2XYcWYuV7yUf"
      },
      "id": "2XYcWYuV7yUf"
    },
    {
      "cell_type": "code",
      "source": [
        "cand_10=cand_20.head(10)\n",
        "cand_10[['zinc_id','smiles']].to_csv('cand_final.csv',index=False)"
      ],
      "metadata": {
        "id": "qSSI9-fmLyK5"
      },
      "id": "qSSI9-fmLyK5",
      "execution_count": null,
      "outputs": []
    },
    {
      "cell_type": "markdown",
      "id": "0e9511ca",
      "metadata": {
        "id": "0e9511ca"
      },
      "source": [
        "# Target 과의 결합을 최적화하는 방향으로 합성 시뮬레이션"
      ]
    },
    {
      "cell_type": "code",
      "execution_count": null,
      "id": "s7s6IDpO803M",
      "metadata": {
        "id": "s7s6IDpO803M",
        "colab": {
          "base_uri": "https://localhost:8080/"
        },
        "outputId": "3ffdbbf9-59d3-43d0-c5ad-6bece1312e87"
      },
      "outputs": [
        {
          "output_type": "stream",
          "name": "stdout",
          "text": [
            "0.3857813331637912\n"
          ]
        }
      ],
      "source": [
        "\n",
        "\n",
        "# 09.29일에 했던 수업과 동일한 방식으로 RandomForest 기반 QSAR 모델을 생성하고 학습함. \n",
        "import pandas as pd\n",
        "import sklearn\n",
        "from sklearn.model_selection import train_test_split\n",
        "from sklearn.ensemble import RandomForestRegressor\n",
        "from sklearn.metrics import mean_squared_error\n",
        "\n",
        "\n",
        "data = pd.read_csv(\"/content/drive/MyDrive/CDK5_INH_P/data/train.csv\")\n",
        "smiles = data['Smiles']        # Input 값은 SMILES\n",
        "pic50 = data['pChEMBL Value']\n",
        "\n",
        "X = []\n",
        "for i in smiles:\n",
        "  mol = Chem.MolFromSmiles(i)\n",
        "  fp = AllChem.GetMorganFingerprintAsBitVect(mol, 2, nBits=1024)\n",
        "  fp = np.array(fp)\n",
        "  X.append(fp)\n",
        "\n",
        "X_train, X_test, y_train, y_test = sklearn.model_selection.train_test_split(X, pic50, test_size=0.1, random_state=42)\n",
        "\n",
        "rf_model = RandomForestRegressor() # 빈 모델을 생성\n",
        "rf_model.fit(X_train, y_train) # Training set 으로 학습을 진행\n",
        "y_pred = rf_model.predict(X_test) # Test set 의 Feature (ECFP)로 Target value들을 예측\n",
        "mse = mean_squared_error(y_test, y_pred)\n",
        "print(mse)"
      ]
    },
    {
      "cell_type": "code",
      "execution_count": null,
      "id": "7YEVXkpt5yDy",
      "metadata": {
        "id": "7YEVXkpt5yDy"
      },
      "outputs": [],
      "source": [
        "# 학습된 RF-QSAR모델을 이용해 pIC50 예측값을 불러오는 함수를 정의\n",
        "\n",
        "def get_QSARScore(smiles):\n",
        "    fp = AllChem.GetMorganFingerprintAsBitVect(Chem.MolFromSmiles(smiles), radius=2, nBits=1024)\n",
        "    return rf_model.predict([fp])"
      ]
    },
    {
      "cell_type": "markdown",
      "id": "1d447634",
      "metadata": {
        "id": "1d447634"
      },
      "source": [
        "# QED 와 QSAR 를 모두 만족하는 물질 생성"
      ]
    },
    {
      "cell_type": "code",
      "execution_count": null,
      "id": "lxEx9rStSVHF",
      "metadata": {
        "id": "lxEx9rStSVHF"
      },
      "outputs": [],
      "source": [
        "# QSAR 점수의 정규화(normalization)\n",
        "def NormQSARScore(qsar_score):\n",
        "    min_score = pic50.min()\n",
        "    max_score = pic50.max()\n",
        "    norm_qsar_score = (qsar_score-min_score)/(max_score-min_score)\n",
        "    return norm_qsar_score"
      ]
    },
    {
      "cell_type": "code",
      "execution_count": null,
      "id": "6bde1973",
      "metadata": {
        "id": "6bde1973"
      },
      "outputs": [],
      "source": [
        "def combined_score(smi):\n",
        "    return get_QED(smi) * 0.5 + NormQSARScore(get_QSARScore(smi)) * 0.5"
      ]
    },
    {
      "cell_type": "code",
      "execution_count": null,
      "id": "GAAR2l6PqEI0",
      "metadata": {
        "id": "GAAR2l6PqEI0"
      },
      "outputs": [],
      "source": [
        "# 초기 구조들을 최대 5번까지 합성을 해서 QED와 QSAR 가 높은 물질 선정\n",
        "from rdkit import Chem\n",
        "\n",
        "\n",
        "product_pool = set()\n",
        "selected_products = set()\n",
        "reactant_blocks = [Chem.MolFromSmiles(block) for block in building_blocks]\n",
        "reaction_count = {  # 최대 합성 횟수 저장 dictionary\n",
        "    0: 0,\n",
        "    1: 0,\n",
        "    2: 0,\n",
        "    3: 0,\n",
        "    4: 0,\n",
        "    5: 0,\n",
        "    6: 0,\n",
        "    7: 0,\n",
        "    8: 0,\n",
        "    9: 0,\n",
        "    10: 0\n",
        "}\n",
        "\n",
        "initial_blocks=cand_10['smiles']\n",
        "\n",
        "max_reaction = 10  # 한 물질 당 최대 5번까지 합성\n",
        "for block in initial_blocks:\n",
        "    current_block = Chem.MolFromSmiles(block)\n",
        "    initial_score = combined_score(block)\n",
        "    for current_reaction in range(1, max_reaction+1):\n",
        "        smiles = get_simulated_smiles(\n",
        "            current_block,\n",
        "            reaction_templates,\n",
        "            reactant_blocks,\n",
        "        )\n",
        "        if smiles:\n",
        "            product_pool.update(smiles)               \n",
        "            best_score = 0                                      ### best_qed_score를 0으로 초기화함\n",
        "            for smi in smiles:                                  ### \"smiles\"에 대해 for loop를 돌면서,\n",
        "              current_score = combined_score(smi)   ### smi의 (QED+QSAR) score를 계산하고\n",
        "              if current_score > best_score:                    ### 만약 smi의 score가 best score보다 높다면,\n",
        "                  best_score = current_score                    ### best score를 smi의 score로 갱신하고,\n",
        "                  selected_smiles = smi                         ### selected_smiles를 smi로 지정\n",
        "            if best_score > initial_score:\n",
        "                selected_products.add(selected_smiles)\n",
        "            current_block = Chem.MolFromSmiles(selected_smiles)\n",
        "\n",
        "            if current_reaction == max_reaction:\n",
        "                reaction_count[current_reaction] += 1\n",
        "        else:\n",
        "            reaction_count[current_reaction-1] += 1  # 최대 합성 횟수 기록\n",
        "            break  # 더 이상 합성이 불가능하므로"
      ]
    },
    {
      "cell_type": "code",
      "execution_count": null,
      "id": "IYxumNDJiRK7",
      "metadata": {
        "id": "IYxumNDJiRK7"
      },
      "outputs": [],
      "source": [
        "# 결과를 저장 (product_pool, selected_products, reaction_count)\n",
        "import os\n",
        "\n",
        "\n",
        "os.makedirs(path+\"result_qed_qsar\", exist_ok=True)\n",
        "\n",
        "product_path = path+\"result_qed_qsar/product_smiles.txt\"\n",
        "selected_path = path+\"result_qed_qsar/selected_smiles.txt\"\n",
        "count_path = path+\"result_qed_qsar/reaction_count.txt\"\n",
        "\n",
        "with open(product_path, 'w') as fout:\n",
        "    fout.write(\"#SMILES\\n\")\n",
        "    for product in product_pool:\n",
        "        fout.write(product + '\\n')\n",
        "\n",
        "with open(selected_path, 'w') as fout:\n",
        "    fout.write(\"#SMILES\\n\")\n",
        "    for product in selected_products:\n",
        "        fout.write(product + '\\n')\n",
        "\n",
        "with open(count_path, 'w') as fout:\n",
        "    fout.write(\"#Reaction\\tCount\\n\")\n",
        "    for key in reaction_count:\n",
        "        fout.write(f\"{key}\\t{reaction_count[key]}\\n\")\n"
      ]
    },
    {
      "cell_type": "code",
      "execution_count": null,
      "id": "0a78c10b",
      "metadata": {
        "id": "0a78c10b",
        "colab": {
          "base_uri": "https://localhost:8080/",
          "height": 317
        },
        "outputId": "7b167199-2276-45c4-d0f8-d52631a82ab5"
      },
      "outputs": [
        {
          "output_type": "stream",
          "name": "stdout",
          "text": [
            "Mean score of output: 6.478123333333334\n",
            "Mean score of input: 6.200930555555557\n"
          ]
        },
        {
          "output_type": "execute_result",
          "data": {
            "text/plain": [
              "(4.0, 10.0)"
            ]
          },
          "metadata": {},
          "execution_count": 51
        },
        {
          "output_type": "display_data",
          "data": {
            "text/plain": [
              "<Figure size 432x288 with 2 Axes>"
            ],
            "image/png": "[encoded data removed]"
          },
          "metadata": {
            "needs_background": "light"
          }
        }
      ],
      "source": [
        "# 합성 전후 QSAR score 분포 확인\n",
        "\n",
        "import matplotlib.pyplot as plt\n",
        "\n",
        "qsar_scores_output = []\n",
        "qsar_scores_input = []\n",
        "for smi_out, smi_in in zip(selected_products, building_blocks):\n",
        "  qsar_scores_output.append(get_QSARScore(smi_out))\n",
        "  qsar_scores_input.append(get_QSARScore(smi_in))\n",
        "qsar_scores_output = np.array(qsar_scores_output)\n",
        "qsar_scores_input = np.array(qsar_scores_input)\n",
        "\n",
        "print(f\"Mean score of output: {qsar_scores_output.mean()}\")\n",
        "print(f\"Mean score of input: {qsar_scores_input.mean()}\")\n",
        "plt.subplot(2,1,1)\n",
        "plt.hist(qsar_scores_output, bins=np.arange(4,10,0.1))\n",
        "plt.xlim(4,10)\n",
        "plt.subplot(2,1,2)\n",
        "plt.hist(qsar_scores_input, bins=np.arange(4,10,0.1))\n",
        "plt.xlim(4,10)"
      ]
    },
    {
      "cell_type": "code",
      "execution_count": null,
      "id": "c33a6d22",
      "metadata": {
        "id": "c33a6d22",
        "colab": {
          "base_uri": "https://localhost:8080/",
          "height": 317
        },
        "outputId": "9290945e-345e-46af-d80f-7b2ef9003add"
      },
      "outputs": [
        {
          "output_type": "stream",
          "name": "stdout",
          "text": [
            "Mean score of output: 0.7533621966918022\n",
            "Mean score of input: 0.3748949297073831\n"
          ]
        },
        {
          "output_type": "execute_result",
          "data": {
            "text/plain": [
              "(0.0, 1.0)"
            ]
          },
          "metadata": {},
          "execution_count": 52
        },
        {
          "output_type": "display_data",
          "data": {
            "text/plain": [
              "<Figure size 432x288 with 2 Axes>"
            ],
            "image/png": "[encoded data removed]"
          },
          "metadata": {
            "needs_background": "light"
          }
        }
      ],
      "source": [
        "# 합성 전후 QED score 분포 확인\n",
        "\n",
        "import matplotlib.pyplot as plt\n",
        "\n",
        "qed_scores_output = []\n",
        "qed_scores_input = []\n",
        "for smi_out, smi_in in zip(selected_products, building_blocks):\n",
        "    qed_scores_output.append(get_QED(smi_out))\n",
        "    qed_scores_input.append(get_QED(smi_in))\n",
        "\n",
        "print(f\"Mean score of output: {np.mean(qed_scores_output)}\")\n",
        "print(f\"Mean score of input: {np.mean(qed_scores_input)}\")\n",
        "plt.subplot(2,1,1)\n",
        "plt.hist(qed_scores_output, bins=np.arange(0,1,0.1))\n",
        "plt.xlim(0,1)\n",
        "plt.subplot(2,1,2)\n",
        "plt.hist(qed_scores_input, bins=np.arange(0,1,0.1))\n",
        "plt.xlim(0,1)"
      ]
    },
    {
      "cell_type": "markdown",
      "id": "6dc461d3",
      "metadata": {
        "id": "6dc461d3"
      },
      "source": [
        "# 주어진 smiles file을 초기구조로 사용해서 표적 결합력을 최적화"
      ]
    },
    {
      "cell_type": "code",
      "execution_count": null,
      "id": "f2847540",
      "metadata": {
        "id": "f2847540",
        "colab": {
          "base_uri": "https://localhost:8080/"
        },
        "outputId": "9a8bd1f5-95a1-46c9-dff6-5679e847bfb7"
      },
      "outputs": [
        {
          "output_type": "stream",
          "name": "stdout",
          "text": [
            "{'C#CCNC(=O)C(C)SCC(NC(Cc1ccc2c(c1)CCC2)[C@@H](C#N)c1nc(N)nc(N)n1)C(=O)O', 'C#CCNC(=O)C(C)SCC(NC(Cc1ccc2c(c1)CCC2)[C@H](C#N)c1nc(N)nc(N)n1)C(=O)O', 'C#CC(Cc1cccc(F)c1)N(Cc1ccccc1)C(c1cc(=O)c2ccccc2o1)[C@@H](C#N)c1nc(N)nc(N)n1', 'C#CCNC(=O)c1ccc(NC(=O)c2ccccc2/C(=C\\\\CN2C(=O)c3ccccc3C2=O)Cn2ccc(=O)[nH]c2=O)cc1'}\n"
          ]
        }
      ],
      "source": [
        "# def get_QSARScore(smiles): <- 이미 만들어둔 QSAR score 함수를 사용하자\n",
        "def get_QSARScore(smiles):\n",
        "    fp = AllChem.GetMorganFingerprintAsBitVect(Chem.MolFromSmiles(smiles), radius=2, nBits=1024)\n",
        "    return rf_model.predict([fp])\n",
        "\n",
        "from rdkit import Chem\n",
        "\n",
        "# with open(path+'vs_result3.csv') as f:\n",
        "#   vs_molecules = f.read().splitlines()\n",
        "\n",
        "initial_blocks = cand_10['smiles'] #4 Load SMILES list of pre-defined molecules\n",
        "\n",
        "product_pool = set()\n",
        "selected_products = set()\n",
        "reactant_blocks = [Chem.MolFromSmiles(block) for block in building_blocks]\n",
        "reaction_count = {  # 최대 합성 횟수 저장 dictionary\n",
        "    0: 0,\n",
        "    1: 0,\n",
        "}\n",
        "\n",
        "max_reaction = 1  # 한 물질 당 최대 5번까지 합성\n",
        "for block in initial_blocks:  # building blocks 대신 초기물질로 inital_blocks 사용\n",
        "    current_block = Chem.MolFromSmiles(block)\n",
        "    inital_qsar_score = get_QSARScore(block)\n",
        "    for current_reaction in range(1, max_reaction+1):\n",
        "        smiles = get_simulated_smiles(\n",
        "            current_block,\n",
        "            reaction_templates,\n",
        "            reactant_blocks,\n",
        "        )\n",
        "        if smiles:\n",
        "            product_pool.update(smiles)\n",
        "            best_qsar_score = 0                         ### best_qed_score를 0으로 초기화함\n",
        "            for smi in smiles:                          ### \"smiles\"에 대해 for loop를 돌면서,\n",
        "              current_qsar_score = get_QSARScore(smi)   ### smi의 qsar score를 계산하고\n",
        "              if current_qsar_score > best_qsar_score:  ### 만약 smi의 qsar score가 best score보다 높다면,\n",
        "                  best_qsar_score = current_qsar_score  ### best score를 smi의 score로 갱신하고,\n",
        "                  selected_smiles = smi                 ### selected_smiles를 smi로 지정\n",
        "            if best_qsar_score > inital_qsar_score:  # QSAR 점수가 초기 구조보다 높으면 저장\n",
        "                selected_products.add(selected_smiles)\n",
        "            current_block = Chem.MolFromSmiles(selected_smiles)\n",
        "\n",
        "            if current_reaction == max_reaction:\n",
        "                reaction_count[current_reaction] += 1\n",
        "        else:\n",
        "            reaction_count[current_reaction-1] += 1  # 최대 합성 횟수 기록\n",
        "            break  # 더 이상 합성이 불가능하므로\n",
        "print(selected_products)"
      ]
    },
    {
      "cell_type": "code",
      "source": [
        "selected_products=pd.DataFrame(selected_products)\n",
        "selected_products.to_csv('/content/drive/MyDrive/CDK5_INH_P/selected_products',index=False)"
      ],
      "metadata": {
        "id": "Hsh3iD8SSTAN"
      },
      "id": "Hsh3iD8SSTAN",
      "execution_count": null,
      "outputs": []
    }
  ],
  "metadata": {
    "colab": {
      "collapsed_sections": [],
      "provenance": [],
      "include_colab_link": true
    },
    "kernelspec": {
      "display_name": "Python 3.7.9 64-bit",
      "language": "python",
      "name": "python3"
    },
    "language_info": {
      "codemirror_mode": {
        "name": "ipython",
        "version": 3
      },
      "file_extension": ".py",
      "mimetype": "text/x-python",
      "name": "python",
      "nbconvert_exporter": "python",
      "pygments_lexer": "ipython3",
      "version": "3.7.9"
    },
    "vscode": {
      "interpreter": {
        "hash": "aee8b7b246df8f9039afb4144a1f6fd8d2ca17a180786b69acc140d282b71a49"
      }
    }
  },
  "nbformat": 4,
  "nbformat_minor": 5
}