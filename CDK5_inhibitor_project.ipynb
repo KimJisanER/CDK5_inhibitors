{
  "nbformat": 4,
  "nbformat_minor": 0,
  "metadata": {
    "colab": {
      "provenance": [],
      "collapsed_sections": [],
      "include_colab_link": true
    },
    "kernelspec": {
      "name": "python3",
      "display_name": "Python 3"
    },
    "language_info": {
      "name": "python"
    }
  },
  "cells": [
    {
      "cell_type": "markdown",
      "metadata": {
        "id": "view-in-github",
        "colab_type": "text"
      },
      "source": [
        "<a href=\"https://colab.research.google.com/github/KimJisanER/CDK5_inhibitors/blob/main/CDK5_inhibitor_project.ipynb\" target=\"_parent\"><img src=\"https://colab.research.google.com/assets/colab-badge.svg\" alt=\"Open In Colab\"/></a>"
      ]
    },
    {
      "cell_type": "markdown",
      "source": [
        "## 1. 필요한 라이브러리 Import 및 다운로드"
      ],
      "metadata": {
        "id": "1ioy1AJ82lCR"
      }
    },
    {
      "cell_type": "code",
      "execution_count": 25,
      "metadata": {
        "id": "dH3EM7OeVzH8",
        "colab": {
          "base_uri": "https://localhost:8080/"
        },
        "outputId": "2c8830d9-9e96-456e-bd4d-cc9510319683"
      },
      "outputs": [
        {
          "output_type": "stream",
          "name": "stdout",
          "text": [
            "\u001b[33mWARNING: Running pip as the 'root' user can result in broken permissions and conflicting behaviour with the system package manager. It is recommended to use a virtual environment instead: https://pip.pypa.io/warnings/venv\u001b[0m\u001b[33m\n",
            "\u001b[0m✨🍰✨ Everything looks OK!\n",
            "✨🍰✨ Everything looks OK!\n",
            "\n",
            "                  __    __    __    __\n",
            "                 /  \\  /  \\  /  \\  /  \\\n",
            "                /    \\/    \\/    \\/    \\\n",
            "███████████████/  /██/  /██/  /██/  /████████████████████████\n",
            "              /  / \\   / \\   / \\   / \\  \\____\n",
            "             /  /   \\_/   \\_/   \\_/   \\    o \\__,\n",
            "            / _/                       \\_____/  `\n",
            "            |/\n",
            "        ███╗   ███╗ █████╗ ███╗   ███╗██████╗  █████╗\n",
            "        ████╗ ████║██╔══██╗████╗ ████║██╔══██╗██╔══██╗\n",
            "        ██╔████╔██║███████║██╔████╔██║██████╔╝███████║\n",
            "        ██║╚██╔╝██║██╔══██║██║╚██╔╝██║██╔══██╗██╔══██║\n",
            "        ██║ ╚═╝ ██║██║  ██║██║ ╚═╝ ██║██████╔╝██║  ██║\n",
            "        ╚═╝     ╚═╝╚═╝  ╚═╝╚═╝     ╚═╝╚═════╝ ╚═╝  ╚═╝\n",
            "\n",
            "        mamba (0.25.0) supported by @QuantStack\n",
            "\n",
            "        GitHub:  https://github.com/mamba-org/mamba\n",
            "        Twitter: https://twitter.com/QuantStack\n",
            "\n",
            "█████████████████████████████████████████████████████████████\n",
            "\n",
            "\n",
            "Looking for: ['rdkit==2021.03.5']\n",
            "\n",
            "\u001b[?25l\u001b[2K\u001b[0G[+] 0.0s\n",
            "\u001b[2K\u001b[1A\u001b[2K\u001b[0G[+] 0.1s\n",
            "conda-forge/linux-64  ⣾  \n",
            "conda-forge/noarch    ⣾  \u001b[2K\u001b[1A\u001b[2K\u001b[1A\u001b[2K\u001b[0G[+] 0.2s\n",
            "conda-forge/linux-64  ⣾  \n",
            "conda-forge/noarch    ⣾  \u001b[2K\u001b[1A\u001b[2K\u001b[1A\u001b[2K\u001b[0G[+] 0.3s\n",
            "conda-forge/linux-64  ⣾  \n",
            "conda-forge/noarch    ⣾  \u001b[2K\u001b[1A\u001b[2K\u001b[1A\u001b[2K\u001b[0G[+] 0.4s\n",
            "conda-forge/linux-64  ⣾  \n",
            "conda-forge/noarch    ⣾  \u001b[2K\u001b[1A\u001b[2K\u001b[1A\u001b[2K\u001b[0G[+] 0.5s\n",
            "conda-forge/linux-64  ⣾  \n",
            "conda-forge/noarch    ⣾  \u001b[2K\u001b[1A\u001b[2K\u001b[1A\u001b[2K\u001b[0G[+] 0.6s\n",
            "conda-forge/linux-64  ⣾  \n",
            "conda-forge/noarch    ⣾  \u001b[2K\u001b[1A\u001b[2K\u001b[1A\u001b[2K\u001b[0G[+] 0.7s\n",
            "conda-forge/linux-64  ⣾  \n",
            "conda-forge/noarch    ⣾  \u001b[2K\u001b[1A\u001b[2K\u001b[1A\u001b[2K\u001b[0G[+] 0.8s\n",
            "conda-forge/linux-64  ⣾  \n",
            "conda-forge/noarch    ⣾  \u001b[2K\u001b[1A\u001b[2K\u001b[1A\u001b[2K\u001b[0G[+] 0.9s\n",
            "conda-forge/linux-64  ⣾  \n",
            "conda-forge/noarch    ⣾  \u001b[2K\u001b[1A\u001b[2K\u001b[1A\u001b[2K\u001b[0G[+] 1.0s\n",
            "conda-forge/linux-64  ⣾  \n",
            "conda-forge/noarch    ⣾  \u001b[2K\u001b[1A\u001b[2K\u001b[1A\u001b[2K\u001b[0G[+] 1.1s\n",
            "conda-forge/linux-64  ⣾  \n",
            "conda-forge/noarch    ⣾  \u001b[2K\u001b[1A\u001b[2K\u001b[1A\u001b[2K\u001b[0G[+] 1.2s\n",
            "conda-forge/linux-64  ⣾  \n",
            "conda-forge/noarch    ⣾  \u001b[2K\u001b[1A\u001b[2K\u001b[1A\u001b[2K\u001b[0G[+] 1.3s\n",
            "conda-forge/linux-64  ⣾  \n",
            "conda-forge/noarch    ⣾  \u001b[2K\u001b[1A\u001b[2K\u001b[1A\u001b[2K\u001b[0G[+] 1.4s\n",
            "conda-forge/linux-64  ⣾  \n",
            "conda-forge/noarch    ⣾  \u001b[2K\u001b[1A\u001b[2K\u001b[1A\u001b[2K\u001b[0G[+] 1.5s\n",
            "conda-forge/linux-64  ⣾  \n",
            "conda-forge/noarch    ⣾  \u001b[2K\u001b[1A\u001b[2K\u001b[1A\u001b[2K\u001b[0G[+] 1.6s\n",
            "conda-forge/linux-64  ⣾  \n",
            "conda-forge/noarch    ⣾  \u001b[2K\u001b[1A\u001b[2K\u001b[1A\u001b[2K\u001b[0G[+] 1.7s\n",
            "conda-forge/linux-64  ⣾  \n",
            "conda-forge/noarch    ⣾  \u001b[2K\u001b[1A\u001b[2K\u001b[1A\u001b[2K\u001b[0G[+] 1.8s\n",
            "conda-forge/linux-64  ⣾  \n",
            "conda-forge/noarch    ⣾  \u001b[2K\u001b[1A\u001b[2K\u001b[1A\u001b[2K\u001b[0G[+] 1.9s\n",
            "conda-forge/linux-64  ⣾  \n",
            "conda-forge/noarch    ⣾  \u001b[2K\u001b[1A\u001b[2K\u001b[1A\u001b[2K\u001b[0G[+] 2.0s\n",
            "conda-forge/linux-64  ⣾  \n",
            "conda-forge/noarch    ⣾  \u001b[2K\u001b[1A\u001b[2K\u001b[1A\u001b[2K\u001b[0G[+] 2.1s\n",
            "conda-forge/linux-64  ⣾  \n",
            "conda-forge/noarch    ⣾  \u001b[2K\u001b[1A\u001b[2K\u001b[1A\u001b[2K\u001b[0G[+] 2.2s\n",
            "conda-forge/linux-64  ⣾  \n",
            "conda-forge/noarch   100%\u001b[2K\u001b[1A\u001b[2K\u001b[1A\u001b[2K\u001b[0G[+] 2.3s\n",
            "conda-forge/linux-64  ⣾  \n",
            "conda-forge/noarch   100%\u001b[2K\u001b[1A\u001b[2K\u001b[1A\u001b[2K\u001b[0G[+] 2.4s\n",
            "conda-forge/linux-64  ⣾  \n",
            "conda-forge/noarch   100%\u001b[2K\u001b[1A\u001b[2K\u001b[1A\u001b[2K\u001b[0G[+] 2.5s\n",
            "conda-forge/linux-64  ⣾  \u001b[2K\u001b[1A\u001b[2K\u001b[0Gconda-forge/noarch                                \n",
            "[+] 2.6s\n",
            "conda-forge/linux-64  ⣾  \u001b[2K\u001b[1A\u001b[2K\u001b[0G[+] 2.7s\n",
            "conda-forge/linux-64  ⣾  \u001b[2K\u001b[1A\u001b[2K\u001b[0G[+] 2.8s\n",
            "conda-forge/linux-64  ⣾  \u001b[2K\u001b[1A\u001b[2K\u001b[0G[+] 2.9s\n",
            "conda-forge/linux-64  ⣾  \u001b[2K\u001b[1A\u001b[2K\u001b[0G[+] 3.0s\n",
            "conda-forge/linux-64  ⣾  \u001b[2K\u001b[1A\u001b[2K\u001b[0G[+] 3.1s\n",
            "conda-forge/linux-64  ⣾  \u001b[2K\u001b[1A\u001b[2K\u001b[0G[+] 3.2s\n",
            "conda-forge/linux-64  ⣾  \u001b[2K\u001b[1A\u001b[2K\u001b[0G[+] 3.3s\n",
            "conda-forge/linux-64  ⣾  \u001b[2K\u001b[1A\u001b[2K\u001b[0G[+] 3.4s\n",
            "conda-forge/linux-64  ⣾  \u001b[2K\u001b[1A\u001b[2K\u001b[0G[+] 3.5s\n",
            "conda-forge/linux-64  ⣾  \u001b[2K\u001b[1A\u001b[2K\u001b[0G[+] 3.6s\n",
            "conda-forge/linux-64  ⣾  \u001b[2K\u001b[1A\u001b[2K\u001b[0G[+] 3.7s\n",
            "conda-forge/linux-64  ⣾  \u001b[2K\u001b[1A\u001b[2K\u001b[0G[+] 3.8s\n",
            "conda-forge/linux-64  ⣾  \u001b[2K\u001b[1A\u001b[2K\u001b[0G[+] 3.9s\n",
            "conda-forge/linux-64  ⣾  \u001b[2K\u001b[1A\u001b[2K\u001b[0G[+] 4.0s\n",
            "conda-forge/linux-64  ⣾  \u001b[2K\u001b[1A\u001b[2K\u001b[0G[+] 4.1s\n",
            "conda-forge/linux-64  ⣾  \u001b[2K\u001b[1A\u001b[2K\u001b[0G[+] 4.2s\n",
            "conda-forge/linux-64  ⣾  \u001b[2K\u001b[1A\u001b[2K\u001b[0G[+] 4.3s\n",
            "conda-forge/linux-64  ⣾  \u001b[2K\u001b[1A\u001b[2K\u001b[0G[+] 4.4s\n",
            "conda-forge/linux-64  ⣾  \u001b[2K\u001b[1A\u001b[2K\u001b[0G[+] 4.5s\n",
            "conda-forge/linux-64  ⣾  \u001b[2K\u001b[1A\u001b[2K\u001b[0G[+] 4.6s\n",
            "conda-forge/linux-64  ⣾  \u001b[2K\u001b[1A\u001b[2K\u001b[0G[+] 4.7s\n",
            "conda-forge/linux-64  ⣾  \u001b[2K\u001b[1A\u001b[2K\u001b[0G[+] 4.8s\n",
            "conda-forge/linux-64  ⣾  \u001b[2K\u001b[1A\u001b[2K\u001b[0G[+] 4.9s\n",
            "conda-forge/linux-64  ⣾  \u001b[2K\u001b[1A\u001b[2K\u001b[0G[+] 5.0s\n",
            "conda-forge/linux-64  ⣾  \u001b[2K\u001b[1A\u001b[2K\u001b[0G[+] 5.1s\n",
            "conda-forge/linux-64  ⣾  \u001b[2K\u001b[1A\u001b[2K\u001b[0G[+] 5.2s\n",
            "conda-forge/linux-64  ⣾  \u001b[2K\u001b[1A\u001b[2K\u001b[0G[+] 5.3s\n",
            "conda-forge/linux-64  ⣾  \u001b[2K\u001b[1A\u001b[2K\u001b[0G[+] 5.4s\n",
            "conda-forge/linux-64  ⣾  \u001b[2K\u001b[1A\u001b[2K\u001b[0G[+] 5.5s\n",
            "conda-forge/linux-64 100%\u001b[2K\u001b[1A\u001b[2K\u001b[0G[+] 5.6s\n",
            "conda-forge/linux-64 100%\u001b[2K\u001b[1A\u001b[2K\u001b[0G[+] 5.7s\n",
            "conda-forge/linux-64 100%\u001b[2K\u001b[1A\u001b[2K\u001b[0G[+] 5.8s\n",
            "conda-forge/linux-64 100%\u001b[2K\u001b[1A\u001b[2K\u001b[0G[+] 5.9s\n",
            "conda-forge/linux-64 100%\u001b[2K\u001b[1A\u001b[2K\u001b[0G[+] 6.0s\n",
            "conda-forge/linux-64 100%\u001b[2K\u001b[1A\u001b[2K\u001b[0G[+] 6.1s\n",
            "conda-forge/linux-64 100%\u001b[2K\u001b[1A\u001b[2K\u001b[0G[+] 6.2s\n",
            "conda-forge/linux-64 100%\u001b[2K\u001b[1A\u001b[2K\u001b[0G[+] 6.3s\n",
            "conda-forge/linux-64 100%\u001b[2K\u001b[1A\u001b[2K\u001b[0G[+] 6.4s\n",
            "conda-forge/linux-64 100%\u001b[2K\u001b[1A\u001b[2K\u001b[0G[+] 6.5s\n",
            "conda-forge/linux-64 100%\u001b[2K\u001b[1A\u001b[2K\u001b[0G[+] 6.6s\n",
            "conda-forge/linux-64 100%\u001b[2K\u001b[1A\u001b[2K\u001b[0G[+] 6.7s\n",
            "\u001b[2K\u001b[1A\u001b[2K\u001b[0Gconda-forge/linux-64                              \n",
            "\u001b[?25h\n",
            "Pinned packages:\n",
            "  - python 3.7.*\n",
            "  - python 3.7.*\n",
            "  - python_abi 3.7.* *cp37*\n",
            "  - cudatoolkit 11.1.*\n",
            "\n",
            "\n",
            "Transaction\n",
            "\n",
            "  Prefix: /usr/local\n",
            "\n",
            "  All requested packages already installed\n",
            "\n",
            "\u001b[?25l\u001b[2K\u001b[0G\u001b[?25h"
          ]
        }
      ],
      "source": [
        "!pip install -q condacolab\n",
        "import condacolab\n",
        "condacolab.install()\n",
        "\n",
        "import sys\n",
        "sys.path\n",
        "\n",
        "import condacolab\n",
        "condacolab.check()\n",
        "\n",
        "!mamba install -c conda-forge rdkit==2021.03.5"
      ]
    },
    {
      "cell_type": "code",
      "source": [
        "import rdkit\n",
        "import rdkit.Chem as Chem"
      ],
      "metadata": {
        "id": "i_dy-h8wV2xb"
      },
      "execution_count": 3,
      "outputs": []
    },
    {
      "cell_type": "code",
      "source": [
        "import matplotlib as mpl\n",
        "import matplotlib.pyplot as plt\n",
        "import pandas as pd\n",
        "import numpy as np\n",
        "import sklearn"
      ],
      "metadata": {
        "id": "M5WrY-UNV6Nm"
      },
      "execution_count": 4,
      "outputs": []
    },
    {
      "cell_type": "markdown",
      "source": [
        "## 2. Data Processing\n",
        "\n",
        ">## **IC50** \n",
        "The **half maximal inhibitory concentration (IC50)** is a measure of the potency of a substance in inhibiting a specific biological or biochemical function.  \n",
        "IC50 is a quantitative measure that indicates **how much of a particular inhibitory substance (e.g. drug) is needed to inhibit, in vitro, a given biological process or biological component by 50%.** \n",
        "The biological component could be an enzyme, cell, cell receptor or microorganism. IC50 values are typically expressed as molar concentration.   \n",
        "**In general, the IC50 value of a typical drug is around several nM.**  \n",
        "```\n",
        "  pIC50 = -log_10(IC50)\n",
        "```"
      ],
      "metadata": {
        "id": "N3kNDWqvV-GR"
      }
    },
    {
      "cell_type": "markdown",
      "source": [
        "###2-1. CSV 파일로부터 데이터 추출\n",
        "- Pandas DataFrame을 이용하여 CSV 파일을 읽음\n",
        "- Pandas DataFrame 참고 자료 (https://pandas.pydata.org/docs/reference/api/pandas.DataFrame.html)\n",
        "- ChEMBL에서 가져온 JAK2에 대한 Ligand 들의 SMILES code와 pIC50 값 (pChEMBL Value)을 읽어들임"
      ],
      "metadata": {
        "id": "qdTPWP15WSFI"
      }
    },
    {
      "cell_type": "code",
      "source": [
        "from google.colab import drive\n",
        "drive.mount('/content/drive')"
      ],
      "metadata": {
        "colab": {
          "base_uri": "https://localhost:8080/"
        },
        "id": "ZnQ-zP34xLbl",
        "outputId": "7a0ee602-5edf-4a3d-dd6d-b953ca53ae52"
      },
      "execution_count": 5,
      "outputs": [
        {
          "output_type": "stream",
          "name": "stdout",
          "text": [
            "Mounted at /content/drive\n"
          ]
        }
      ]
    },
    {
      "cell_type": "code",
      "source": [
        "CDK5_dataframe = pd.read_csv('/content/drive/MyDrive/CDK5_INH_P/CDK5_inhibit.csv')\n",
        "print(CDK5_dataframe)"
      ],
      "metadata": {
        "id": "aTwQaRiJa33E",
        "colab": {
          "base_uri": "https://localhost:8080/"
        },
        "outputId": "dbbfd89f-3db6-4683-fa97-975a227c439a"
      },
      "execution_count": 6,
      "outputs": [
        {
          "output_type": "stream",
          "name": "stdout",
          "text": [
            "     Molecule ChEMBL ID Molecule Name  Molecule Max Phase  Molecular Weight  \\\n",
            "0           CHEMBL80644           NaN                   0            225.25   \n",
            "1          CHEMBL476236           NaN                   0            268.70   \n",
            "2          CHEMBL236102           NaN                   0            606.54   \n",
            "3          CHEMBL253769   INDIRUBIN 1                   0            388.21   \n",
            "4          CHEMBL368112           NaN                   0            386.16   \n",
            "...                 ...           ...                 ...               ...   \n",
            "2289      CHEMBL4851634           NaN                   0            371.83   \n",
            "2290      CHEMBL4875029           NaN                   0            353.84   \n",
            "2291      CHEMBL3545083    RGB-286638                   1            545.64   \n",
            "2292      CHEMBL4875986           NaN                   0            380.45   \n",
            "2293      CHEMBL3655762           NaN                   0            397.53   \n",
            "\n",
            "     #RO5 Violations AlogP                        Compound Key  \\\n",
            "0                  0  2.59                                  12   \n",
            "1                  0  3.67                                  2a   \n",
            "2                  2  8.48                                 18a   \n",
            "3                  0  4.05  6,5-dichloroindirubin-3'-acetoxime   \n",
            "4                  0  3.86            6-Bromo-5-nitroindirubin   \n",
            "...              ...   ...                                 ...   \n",
            "2289               0  4.37                                  15   \n",
            "2290               0  4.23                                  14   \n",
            "2291               1  2.42                      52, RGB-286638   \n",
            "2292               0  3.78                                  17   \n",
            "2293               0  3.60                             CYC-065   \n",
            "\n",
            "                                                 Smiles Standard Type  \\\n",
            "0                        COc1cccc(-c2cc3[nH]ccnc-3n2)c1          IC50   \n",
            "1                O=C1c2[nH]cc(-c3ccc(Cl)cc3)c2-n2cccc21          IC50   \n",
            "2     CC(=O)Nc1cc(-c2ccccc2)c(-c2nnc3n2N=C(c2cc(F)c(...          IC50   \n",
            "3     CC(=O)O/N=C1C(=C2/C(=O)Nc3cc(Cl)c(Cl)cc32)/Nc2...          IC50   \n",
            "4     O=C1C(c2c(O)[nH]c3cc(Br)c([N+](=O)[O-])cc23)=N...          IC50   \n",
            "...                                                 ...           ...   \n",
            "2289       CSc1nccc(-c2c(-c3ccc(F)cc3)nc3c(Cl)nccn23)n1          IC50   \n",
            "2290          CSc1nccc(-c2c(-c3ccccc3)nc3c(Cl)nccn23)n1          IC50   \n",
            "2291  COCCN1CCN(Cc2ccc(-c3n[nH]c4c3C(=O)c3c(NC(=O)NN...          IC50   \n",
            "2292    CSc1nccc(-c2c(-c3ccc(F)cc3)nc3c(N(C)C)nccn23)n1          IC50   \n",
            "2293  CC[C@H](Nc1nc(NCc2cnc(C)cc2C)c2ncn(C(C)C)c2n1)...          IC50   \n",
            "\n",
            "     Standard Relation  ...                                 Target Name  \\\n",
            "0                  '='  ...  Cyclin-dependent kinase 5/CDK5 activator 1   \n",
            "1                  '>'  ...                   Cyclin-dependent kinase 5   \n",
            "2                  '='  ...  Cyclin-dependent kinase 5/CDK5 activator 1   \n",
            "3                  '='  ...  Cyclin-dependent kinase 5/CDK5 activator 1   \n",
            "4                  '>'  ...  Cyclin-dependent kinase 5/CDK5 activator 1   \n",
            "...                ...  ...                                         ...   \n",
            "2289               '>'  ...  Cyclin-dependent kinase 5/CDK5 activator 1   \n",
            "2290               '>'  ...  Cyclin-dependent kinase 5/CDK5 activator 1   \n",
            "2291               '='  ...  Cyclin-dependent kinase 5/CDK5 activator 1   \n",
            "2292               '>'  ...  Cyclin-dependent kinase 5/CDK5 activator 1   \n",
            "2293               '='  ...                   Cyclin-dependent kinase 5   \n",
            "\n",
            "     Target Organism      Target Type Document ChEMBL ID Source ID  \\\n",
            "0       Homo sapiens  PROTEIN COMPLEX      CHEMBL1145099         1   \n",
            "1       Homo sapiens   SINGLE PROTEIN      CHEMBL1153875         1   \n",
            "2       Homo sapiens  PROTEIN COMPLEX      CHEMBL1149673         1   \n",
            "3       Homo sapiens  PROTEIN COMPLEX      CHEMBL1148469         1   \n",
            "4       Homo sapiens  PROTEIN COMPLEX      CHEMBL1148469         1   \n",
            "...              ...              ...                ...       ...   \n",
            "2289    Homo sapiens  PROTEIN COMPLEX      CHEMBL4813913         1   \n",
            "2290    Homo sapiens  PROTEIN COMPLEX      CHEMBL4813913         1   \n",
            "2291    Homo sapiens  PROTEIN COMPLEX      CHEMBL3856187         1   \n",
            "2292    Homo sapiens  PROTEIN COMPLEX      CHEMBL4813913         1   \n",
            "2293    Homo sapiens   SINGLE PROTEIN      CHEMBL4406837         1   \n",
            "\n",
            "         Source Description      Document Journal Document Year  \\\n",
            "0     Scientific Literature         J. Med. Chem.        2003.0   \n",
            "1     Scientific Literature    Eur. J. Med. Chem.        2009.0   \n",
            "2     Scientific Literature    Bioorg. Med. Chem.        2007.0   \n",
            "3     Scientific Literature         J. Med. Chem.        2004.0   \n",
            "4     Scientific Literature         J. Med. Chem.        2004.0   \n",
            "...                     ...                   ...           ...   \n",
            "2289  Scientific Literature        Eur J Med Chem        2021.0   \n",
            "2290  Scientific Literature        Eur J Med Chem        2021.0   \n",
            "2291  Scientific Literature            J Med Chem        2016.0   \n",
            "2292  Scientific Literature        Eur J Med Chem        2021.0   \n",
            "2293  Scientific Literature  Bioorg Med Chem Lett        2019.0   \n",
            "\n",
            "     Cell ChEMBL ID Properties  \n",
            "0              None        NaN  \n",
            "1              None        NaN  \n",
            "2              None        NaN  \n",
            "3              None        NaN  \n",
            "4              None        NaN  \n",
            "...             ...        ...  \n",
            "2289           None        NaN  \n",
            "2290           None        NaN  \n",
            "2291           None        NaN  \n",
            "2292           None        NaN  \n",
            "2293           None        NaN  \n",
            "\n",
            "[2294 rows x 45 columns]\n"
          ]
        }
      ]
    },
    {
      "cell_type": "code",
      "source": [
        "CDK5_dataframe.info()"
      ],
      "metadata": {
        "colab": {
          "base_uri": "https://localhost:8080/"
        },
        "id": "ifvAY-79H_4R",
        "outputId": "2a4b4d4a-5b8c-4e89-85fd-37ce80e10129"
      },
      "execution_count": 10,
      "outputs": [
        {
          "output_type": "stream",
          "name": "stdout",
          "text": [
            "<class 'pandas.core.frame.DataFrame'>\n",
            "RangeIndex: 2294 entries, 0 to 2293\n",
            "Data columns (total 45 columns):\n",
            " #   Column                      Non-Null Count  Dtype  \n",
            "---  ------                      --------------  -----  \n",
            " 0   Molecule ChEMBL ID          2294 non-null   object \n",
            " 1   Molecule Name               201 non-null    object \n",
            " 2   Molecule Max Phase          2294 non-null   int64  \n",
            " 3   Molecular Weight            2294 non-null   float64\n",
            " 4   #RO5 Violations             2294 non-null   object \n",
            " 5   AlogP                       2294 non-null   object \n",
            " 6   Compound Key                2294 non-null   object \n",
            " 7   Smiles                      2294 non-null   object \n",
            " 8   Standard Type               2294 non-null   object \n",
            " 9   Standard Relation           2249 non-null   object \n",
            " 10  Standard Value              2253 non-null   float64\n",
            " 11  Standard Units              2262 non-null   object \n",
            " 12  pChEMBL Value               1393 non-null   float64\n",
            " 13  Data Validity Comment       35 non-null     object \n",
            " 14  Comment                     42 non-null     object \n",
            " 15  Uo Units                    2261 non-null   object \n",
            " 16  Ligand Efficiency BEI       1391 non-null   float64\n",
            " 17  Ligand Efficiency LE        1391 non-null   object \n",
            " 18  Ligand Efficiency LLE       1391 non-null   object \n",
            " 19  Ligand Efficiency SEI       1391 non-null   object \n",
            " 20  Potential Duplicate         2294 non-null   int64  \n",
            " 21  Assay ChEMBL ID             2294 non-null   object \n",
            " 22  Assay Description           2294 non-null   object \n",
            " 23  Assay Type                  2294 non-null   object \n",
            " 24  BAO Format ID               2294 non-null   object \n",
            " 25  BAO Label                   2294 non-null   object \n",
            " 26  Assay Organism              2294 non-null   object \n",
            " 27  Assay Tissue ChEMBL ID      2294 non-null   object \n",
            " 28  Assay Tissue Name           2294 non-null   object \n",
            " 29  Assay Cell Type             2294 non-null   object \n",
            " 30  Assay Subcellular Fraction  2294 non-null   object \n",
            " 31  Assay Parameters            0 non-null      float64\n",
            " 32  Assay Variant Accession     0 non-null      float64\n",
            " 33  Assay Variant Mutation      0 non-null      float64\n",
            " 34  Target ChEMBL ID            2294 non-null   object \n",
            " 35  Target Name                 2294 non-null   object \n",
            " 36  Target Organism             2294 non-null   object \n",
            " 37  Target Type                 2294 non-null   object \n",
            " 38  Document ChEMBL ID          2294 non-null   object \n",
            " 39  Source ID                   2294 non-null   int64  \n",
            " 40  Source Description          2294 non-null   object \n",
            " 41  Document Journal            2284 non-null   object \n",
            " 42  Document Year               2288 non-null   float64\n",
            " 43  Cell ChEMBL ID              2294 non-null   object \n",
            " 44  Properties                  20 non-null     object \n",
            "dtypes: float64(8), int64(3), object(34)\n",
            "memory usage: 806.6+ KB\n"
          ]
        }
      ]
    },
    {
      "cell_type": "code",
      "source": [
        "CDK5_dataframe['Standard Type'].value_counts()"
      ],
      "metadata": {
        "colab": {
          "base_uri": "https://localhost:8080/"
        },
        "id": "a8yF4mrUJ8oP",
        "outputId": "491f52ea-c41d-473e-e057-f57c9c47d2af"
      },
      "execution_count": 14,
      "outputs": [
        {
          "output_type": "execute_result",
          "data": {
            "text/plain": [
              "IC50    1393\n",
              "Name: Standard Type, dtype: int64"
            ]
          },
          "metadata": {},
          "execution_count": 14
        }
      ]
    },
    {
      "cell_type": "code",
      "source": [
        "CDK5_dataframe=CDK5_dataframe.dropna(subset=['pChEMBL Value'], axis=0)"
      ],
      "metadata": {
        "id": "TIAR9u1OIJcP"
      },
      "execution_count": 11,
      "outputs": []
    },
    {
      "cell_type": "code",
      "source": [
        "CDK5_dataframe.info()"
      ],
      "metadata": {
        "colab": {
          "base_uri": "https://localhost:8080/"
        },
        "id": "B5lVuQKmIaj_",
        "outputId": "845370be-a8d6-499c-a6c6-61c2f529050e"
      },
      "execution_count": 12,
      "outputs": [
        {
          "output_type": "stream",
          "name": "stdout",
          "text": [
            "<class 'pandas.core.frame.DataFrame'>\n",
            "Int64Index: 1393 entries, 0 to 2293\n",
            "Data columns (total 45 columns):\n",
            " #   Column                      Non-Null Count  Dtype  \n",
            "---  ------                      --------------  -----  \n",
            " 0   Molecule ChEMBL ID          1393 non-null   object \n",
            " 1   Molecule Name               166 non-null    object \n",
            " 2   Molecule Max Phase          1393 non-null   int64  \n",
            " 3   Molecular Weight            1393 non-null   float64\n",
            " 4   #RO5 Violations             1393 non-null   object \n",
            " 5   AlogP                       1393 non-null   object \n",
            " 6   Compound Key                1393 non-null   object \n",
            " 7   Smiles                      1393 non-null   object \n",
            " 8   Standard Type               1393 non-null   object \n",
            " 9   Standard Relation           1393 non-null   object \n",
            " 10  Standard Value              1393 non-null   float64\n",
            " 11  Standard Units              1393 non-null   object \n",
            " 12  pChEMBL Value               1393 non-null   float64\n",
            " 13  Data Validity Comment       0 non-null      object \n",
            " 14  Comment                     0 non-null      object \n",
            " 15  Uo Units                    1393 non-null   object \n",
            " 16  Ligand Efficiency BEI       1391 non-null   float64\n",
            " 17  Ligand Efficiency LE        1391 non-null   object \n",
            " 18  Ligand Efficiency LLE       1391 non-null   object \n",
            " 19  Ligand Efficiency SEI       1391 non-null   object \n",
            " 20  Potential Duplicate         1393 non-null   int64  \n",
            " 21  Assay ChEMBL ID             1393 non-null   object \n",
            " 22  Assay Description           1393 non-null   object \n",
            " 23  Assay Type                  1393 non-null   object \n",
            " 24  BAO Format ID               1393 non-null   object \n",
            " 25  BAO Label                   1393 non-null   object \n",
            " 26  Assay Organism              1393 non-null   object \n",
            " 27  Assay Tissue ChEMBL ID      1393 non-null   object \n",
            " 28  Assay Tissue Name           1393 non-null   object \n",
            " 29  Assay Cell Type             1393 non-null   object \n",
            " 30  Assay Subcellular Fraction  1393 non-null   object \n",
            " 31  Assay Parameters            0 non-null      float64\n",
            " 32  Assay Variant Accession     0 non-null      float64\n",
            " 33  Assay Variant Mutation      0 non-null      float64\n",
            " 34  Target ChEMBL ID            1393 non-null   object \n",
            " 35  Target Name                 1393 non-null   object \n",
            " 36  Target Organism             1393 non-null   object \n",
            " 37  Target Type                 1393 non-null   object \n",
            " 38  Document ChEMBL ID          1393 non-null   object \n",
            " 39  Source ID                   1393 non-null   int64  \n",
            " 40  Source Description          1393 non-null   object \n",
            " 41  Document Journal            1387 non-null   object \n",
            " 42  Document Year               1387 non-null   float64\n",
            " 43  Cell ChEMBL ID              1393 non-null   object \n",
            " 44  Properties                  5 non-null      object \n",
            "dtypes: float64(8), int64(3), object(34)\n",
            "memory usage: 500.6+ KB\n"
          ]
        }
      ]
    },
    {
      "cell_type": "markdown",
      "source": [
        "#### Input 값은 Smiles, Target value 값은 pChEMBL Value로 저장\n",
        "\n",
        "\n"
      ],
      "metadata": {
        "id": "qDWJqM6cWeCo"
      }
    },
    {
      "cell_type": "code",
      "source": [
        "smiles = CDK5_dataframe['Smiles']\n",
        "pic50 = CDK5_dataframe['pChEMBL Value']\n",
        "print(smiles)\n",
        "print(pic50)"
      ],
      "metadata": {
        "id": "LEWoh-T5WO6T",
        "colab": {
          "base_uri": "https://localhost:8080/"
        },
        "outputId": "2cee356b-748c-4fe0-ffba-02cce2fd4bd9"
      },
      "execution_count": 13,
      "outputs": [
        {
          "output_type": "stream",
          "name": "stdout",
          "text": [
            "0                          COc1cccc(-c2cc3[nH]ccnc-3n2)c1\n",
            "2       CC(=O)Nc1cc(-c2ccccc2)c(-c2nnc3n2N=C(c2cc(F)c(...\n",
            "3       CC(=O)O/N=C1C(=C2/C(=O)Nc3cc(Cl)c(Cl)cc32)/Nc2...\n",
            "6       CN1CCN(c2ccc3[nH]c(=O)c(-c4csc(-c5ccncc5)n4)c(...\n",
            "7           O=C1Nc2cc(CN3CCOCC3)ccc2CN1c1csc(-c2ccncc2)n1\n",
            "                              ...                        \n",
            "2283         Nc1ncc(-c2cccc3ncsc23)cc1-c1ccc2c(c1)CCNC2=O\n",
            "2286       CN1C/C=C/CCOc2cccc(c2)-c2ccnc(n2)Nc2cccc(c2)C1\n",
            "2287    CN1CC=C(c2c(O)cc(O)c3c(=O)cc(-c4ccc(Sc5nc6cccc...\n",
            "2291    COCCN1CCN(Cc2ccc(-c3n[nH]c4c3C(=O)c3c(NC(=O)NN...\n",
            "2293    CC[C@H](Nc1nc(NCc2cnc(C)cc2C)c2ncn(C(C)C)c2n1)...\n",
            "Name: Smiles, Length: 1393, dtype: object\n",
            "0       5.00\n",
            "2       5.84\n",
            "3       7.00\n",
            "6       6.92\n",
            "7       7.21\n",
            "        ... \n",
            "2283    4.70\n",
            "2286    8.40\n",
            "2287    5.96\n",
            "2291    8.70\n",
            "2293    7.64\n",
            "Name: pChEMBL Value, Length: 1393, dtype: float64\n"
          ]
        }
      ]
    },
    {
      "cell_type": "markdown",
      "source": [
        "### 2-2. Ligand Featurization\n",
        "\n",
        "- SMILES 형태로 나타낸 분자를 fingerprint 형태로 featurization"
      ],
      "metadata": {
        "id": "AmytfMB0W0Yf"
      }
    },
    {
      "cell_type": "code",
      "source": [
        "from rdkit.Chem import AllChem\n",
        "from rdkit import Chem\n",
        "\n",
        "X = []\n",
        "for i in smiles:\n",
        "    mol = Chem.MolFromSmiles(i)\n",
        "    fp = AllChem.GetMorganFingerprintAsBitVect(mol, 4, nBits=2048)\n",
        "    fp = np.array(fp)\n",
        "    X.append(fp)\n"
      ],
      "metadata": {
        "id": "mBlK_3vGXAED"
      },
      "execution_count": 26,
      "outputs": []
    },
    {
      "cell_type": "code",
      "source": [
        "X[1]"
      ],
      "metadata": {
        "colab": {
          "base_uri": "https://localhost:8080/"
        },
        "id": "hqDUgJOWSIzt",
        "outputId": "7418a79f-0008-4c22-8886-2cff5c65d282"
      },
      "execution_count": 27,
      "outputs": [
        {
          "output_type": "execute_result",
          "data": {
            "text/plain": [
              "array([0, 0, 0, ..., 0, 0, 0])"
            ]
          },
          "metadata": {},
          "execution_count": 27
        }
      ]
    },
    {
      "cell_type": "markdown",
      "source": [
        "###2-3. 전체 데이터셋을 Training set, Validation set, Test set 으로 나눔\n",
        "- Training set: Prediction model을 학습하기 위한 data\n",
        "- Validation set: Prediction model이 제대로 학습이 진행중인지 확인하는 data\n",
        "- Test set: Prediction model의 성능을 확인하는 data"
      ],
      "metadata": {
        "id": "pOEmeGdqXpiA"
      }
    },
    {
      "cell_type": "code",
      "source": [
        "import sklearn.model_selection\n",
        "X_train, X_test, y_train, y_test = sklearn.model_selection.train_test_split(X, pic50, test_size=0.1, random_state=42)\n",
        "X_train, X_val, y_train, y_val = sklearn.model_selection.train_test_split(X_train, y_train, test_size=0.1, random_state=42)"
      ],
      "metadata": {
        "id": "HTyi_7esXtv_"
      },
      "execution_count": 28,
      "outputs": []
    },
    {
      "cell_type": "markdown",
      "source": [
        "## 3. Deep Learning Model 만들기"
      ],
      "metadata": {
        "id": "u5-aCHHiXUgH"
      }
    },
    {
      "cell_type": "code",
      "source": [
        "import tensorflow as tf\n",
        "from tensorflow.keras.models import Sequential\n",
        "from tensorflow.keras.layers import Dense\n",
        "from tensorflow.keras.layers import Flatten\n",
        "from tensorflow.keras.layers import LSTM"
      ],
      "metadata": {
        "id": "M2IENx3EXZ-Y"
      },
      "execution_count": 29,
      "outputs": []
    },
    {
      "cell_type": "markdown",
      "source": [
        "###3-1. 데이터 값들을 Tensor로 변환"
      ],
      "metadata": {
        "id": "HM0QHB1KXxr6"
      }
    },
    {
      "cell_type": "code",
      "source": [
        "X_train = tf.convert_to_tensor(X_train, dtype=tf.float32)\n",
        "y_train = tf.convert_to_tensor(y_train)\n",
        "X_val = tf.convert_to_tensor(X_val, dtype=tf.float32)\n",
        "y_val = tf.convert_to_tensor(y_val)\n",
        "X_test = tf.convert_to_tensor(X_test, dtype=tf.float32)"
      ],
      "metadata": {
        "id": "BOAPUNjIX0MU"
      },
      "execution_count": 30,
      "outputs": []
    },
    {
      "cell_type": "markdown",
      "source": [
        "### 3-2. Deep Learning Model을 Sequential 모델로 정의 \n",
        "- 아래와 같은 순서로 Layer가  model 정의\n",
        "1. Dense layer \n",
        "2. Dropout layer\n",
        "3. Dense layer\n",
        "4. Dropout layer\n",
        "5. Dense layer"
      ],
      "metadata": {
        "id": "vsNCWeQXX6rN"
      }
    },
    {
      "cell_type": "code",
      "source": [
        "dl_model = Sequential([\n",
        "                    tf.keras.layers.Dense(64, activation='relu', name=\"A\"),\n",
        "                    tf.keras.layers.Dropout(0.1),\n",
        "                    tf.keras.layers.Dense(32, activation='relu', name=\"B\"),\n",
        "                    tf.keras.layers.Dropout(0.1),\n",
        "                    tf.keras.layers.Dense(1, name=\"C\"),\n",
        "])"
      ],
      "metadata": {
        "id": "djJ0tm_QYV98"
      },
      "execution_count": 31,
      "outputs": []
    },
    {
      "cell_type": "markdown",
      "source": [
        "### 3-3. Model Compile\n",
        "- Adam Optimizer를 Optimizer로 사용\n",
        "- Loss Function은 Mean Sequared error function\n",
        "- Monitoring 할 metric은 mean squared error\n",
        "\n",
        "- Tensorflow 홈페이지 참조(https://www.tensorflow.org/api_docs/python/tf/keras/Model)"
      ],
      "metadata": {
        "id": "T1ewAWpUYfQI"
      }
    },
    {
      "cell_type": "code",
      "source": [
        "mse = tf.keras.losses.MeanSquaredError()\n",
        "mmse = tf.keras.metrics.MeanSquaredError()\n",
        "\n",
        "dl_model.compile(optimizer = 'adam',\n",
        "                 loss = mse,\n",
        "                 metrics = mmse)"
      ],
      "metadata": {
        "id": "xPSy9pBBYqIO"
      },
      "execution_count": 32,
      "outputs": []
    },
    {
      "cell_type": "markdown",
      "source": [
        "###3-4.  Early Stopping 설정\n",
        "\n",
        "\n",
        ">## **Early Stopping**\n",
        "> -  너무 많은 epoch는 overfitting을 일으키고 너무 적은 epoch는 underfitting을 일으킴\n",
        "-  일반적으로 validation set에서 성능이 더이상 증가하지 않을 때 학습을 중지\n",
        "-  patience = 10 -> validation set에서 10 epoch가 지나도 성능이 증가하지 않으면 학습을 중지\n",
        "\n",
        "- training 데이터를 사용하여 100 epoch까지 Early stopping 을 활용하여 모델 학습\n",
        "- batch size는 32\n"
      ],
      "metadata": {
        "id": "tUQBeuo5Y5hE"
      }
    },
    {
      "cell_type": "code",
      "source": [
        "callback = tf.keras.callbacks.EarlyStopping(monitor='val_loss', patience=10)\n",
        "history = dl_model.fit(\n",
        "    x=X_train,\n",
        "    y=y_train,\n",
        "    epochs=100,\n",
        "    batch_size=32,\n",
        "    callbacks=[callback],               # early stopping\n",
        "    validation_data=(X_val, y_val)      # X_val, y_val을 validation set으로 사용\n",
        ")\n",
        "dl_model.summary()"
      ],
      "metadata": {
        "id": "myN0mfbIY_OP",
        "colab": {
          "base_uri": "https://localhost:8080/"
        },
        "outputId": "7373d7ec-6512-4e6c-df90-ec4d7ec38a7f"
      },
      "execution_count": 33,
      "outputs": [
        {
          "output_type": "stream",
          "name": "stdout",
          "text": [
            "Epoch 1/100\n",
            "36/36 [==============================] - 2s 12ms/step - loss: 10.8852 - mean_squared_error: 10.8852 - val_loss: 1.8427 - val_mean_squared_error: 1.8427\n",
            "Epoch 2/100\n",
            "36/36 [==============================] - 0s 6ms/step - loss: 1.5700 - mean_squared_error: 1.5700 - val_loss: 0.9524 - val_mean_squared_error: 0.9524\n",
            "Epoch 3/100\n",
            "36/36 [==============================] - 0s 5ms/step - loss: 1.0911 - mean_squared_error: 1.0911 - val_loss: 0.8288 - val_mean_squared_error: 0.8288\n",
            "Epoch 4/100\n",
            "36/36 [==============================] - 0s 5ms/step - loss: 0.9053 - mean_squared_error: 0.9053 - val_loss: 0.7037 - val_mean_squared_error: 0.7037\n",
            "Epoch 5/100\n",
            "36/36 [==============================] - 0s 7ms/step - loss: 0.8635 - mean_squared_error: 0.8635 - val_loss: 0.6682 - val_mean_squared_error: 0.6682\n",
            "Epoch 6/100\n",
            "36/36 [==============================] - 0s 7ms/step - loss: 0.7437 - mean_squared_error: 0.7437 - val_loss: 0.7077 - val_mean_squared_error: 0.7077\n",
            "Epoch 7/100\n",
            "36/36 [==============================] - 0s 6ms/step - loss: 0.7509 - mean_squared_error: 0.7509 - val_loss: 0.7144 - val_mean_squared_error: 0.7144\n",
            "Epoch 8/100\n",
            "36/36 [==============================] - 0s 6ms/step - loss: 0.7236 - mean_squared_error: 0.7236 - val_loss: 0.7297 - val_mean_squared_error: 0.7297\n",
            "Epoch 9/100\n",
            "36/36 [==============================] - 0s 6ms/step - loss: 0.6285 - mean_squared_error: 0.6285 - val_loss: 0.6991 - val_mean_squared_error: 0.6991\n",
            "Epoch 10/100\n",
            "36/36 [==============================] - 0s 5ms/step - loss: 0.6793 - mean_squared_error: 0.6793 - val_loss: 0.6954 - val_mean_squared_error: 0.6954\n",
            "Epoch 11/100\n",
            "36/36 [==============================] - 0s 5ms/step - loss: 0.6166 - mean_squared_error: 0.6166 - val_loss: 0.7807 - val_mean_squared_error: 0.7807\n",
            "Epoch 12/100\n",
            "36/36 [==============================] - 0s 5ms/step - loss: 0.6231 - mean_squared_error: 0.6231 - val_loss: 0.6910 - val_mean_squared_error: 0.6910\n",
            "Epoch 13/100\n",
            "36/36 [==============================] - 0s 6ms/step - loss: 0.6074 - mean_squared_error: 0.6074 - val_loss: 0.7963 - val_mean_squared_error: 0.7963\n",
            "Epoch 14/100\n",
            "36/36 [==============================] - 0s 5ms/step - loss: 0.6017 - mean_squared_error: 0.6017 - val_loss: 0.6760 - val_mean_squared_error: 0.6760\n",
            "Epoch 15/100\n",
            "36/36 [==============================] - 0s 5ms/step - loss: 0.5791 - mean_squared_error: 0.5791 - val_loss: 0.7555 - val_mean_squared_error: 0.7555\n",
            "Model: \"sequential\"\n",
            "_________________________________________________________________\n",
            " Layer (type)                Output Shape              Param #   \n",
            "=================================================================\n",
            " A (Dense)                   (None, 64)                131136    \n",
            "                                                                 \n",
            " dropout (Dropout)           (None, 64)                0         \n",
            "                                                                 \n",
            " B (Dense)                   (None, 32)                2080      \n",
            "                                                                 \n",
            " dropout_1 (Dropout)         (None, 32)                0         \n",
            "                                                                 \n",
            " C (Dense)                   (None, 1)                 33        \n",
            "                                                                 \n",
            "=================================================================\n",
            "Total params: 133,249\n",
            "Trainable params: 133,249\n",
            "Non-trainable params: 0\n",
            "_________________________________________________________________\n"
          ]
        }
      ]
    },
    {
      "cell_type": "markdown",
      "source": [
        "## 4. Deep Learning Model Evaluation"
      ],
      "metadata": {
        "id": "kEBF7gy0Z7LO"
      }
    },
    {
      "cell_type": "markdown",
      "source": [
        "#### 만들어진 Deep Learning 모델의 성능 평가\n",
        "##### X_test 값을 활용하여 dl_model에서 pIC값을 예측"
      ],
      "metadata": {
        "id": "0oQ7Q3vsaCsa"
      }
    },
    {
      "cell_type": "code",
      "source": [
        "y_pred = dl_model.predict(X_test)"
      ],
      "metadata": {
        "id": "s7--5aocZ-a9"
      },
      "execution_count": 34,
      "outputs": []
    },
    {
      "cell_type": "code",
      "source": [
        "print(y_pred)"
      ],
      "metadata": {
        "colab": {
          "base_uri": "https://localhost:8080/"
        },
        "id": "-e1Gx0u96Wgu",
        "outputId": "4ec92e52-e591-4d0e-c996-709ff496bc29"
      },
      "execution_count": 35,
      "outputs": [
        {
          "output_type": "stream",
          "name": "stdout",
          "text": [
            "[[5.269097 ]\n",
            " [5.499747 ]\n",
            " [7.419907 ]\n",
            " [6.5173516]\n",
            " [7.1595607]\n",
            " [5.244125 ]\n",
            " [7.103307 ]\n",
            " [5.418574 ]\n",
            " [6.386334 ]\n",
            " [5.16367  ]\n",
            " [5.860749 ]\n",
            " [5.4417176]\n",
            " [4.868556 ]\n",
            " [5.43442  ]\n",
            " [4.414072 ]\n",
            " [5.427796 ]\n",
            " [3.2389371]\n",
            " [6.956425 ]\n",
            " [5.140056 ]\n",
            " [6.8901687]\n",
            " [5.3980594]\n",
            " [6.052631 ]\n",
            " [6.3936934]\n",
            " [6.3158383]\n",
            " [6.531045 ]\n",
            " [6.0756226]\n",
            " [6.29547  ]\n",
            " [4.4031053]\n",
            " [6.14349  ]\n",
            " [5.669646 ]\n",
            " [5.4338126]\n",
            " [5.058348 ]\n",
            " [5.437098 ]\n",
            " [6.660259 ]\n",
            " [6.347927 ]\n",
            " [8.018322 ]\n",
            " [5.524172 ]\n",
            " [6.64401  ]\n",
            " [5.2940755]\n",
            " [6.6725907]\n",
            " [7.2559094]\n",
            " [5.0462165]\n",
            " [6.7657022]\n",
            " [6.091542 ]\n",
            " [7.1685596]\n",
            " [7.0576572]\n",
            " [6.276951 ]\n",
            " [5.411794 ]\n",
            " [6.190454 ]\n",
            " [6.1360927]\n",
            " [5.358198 ]\n",
            " [7.7285285]\n",
            " [7.6263347]\n",
            " [5.90159  ]\n",
            " [6.3367357]\n",
            " [5.4519553]\n",
            " [7.026522 ]\n",
            " [5.0983243]\n",
            " [6.1945686]\n",
            " [6.3635163]\n",
            " [7.1591377]\n",
            " [6.402552 ]\n",
            " [6.051993 ]\n",
            " [7.4504237]\n",
            " [4.3352733]\n",
            " [6.956817 ]\n",
            " [5.731461 ]\n",
            " [6.099837 ]\n",
            " [5.4241934]\n",
            " [5.684195 ]\n",
            " [6.649623 ]\n",
            " [4.8994994]\n",
            " [5.8758187]\n",
            " [6.091542 ]\n",
            " [5.4715204]\n",
            " [6.7748723]\n",
            " [5.0763974]\n",
            " [5.378868 ]\n",
            " [5.8622413]\n",
            " [6.7870793]\n",
            " [6.1547055]\n",
            " [5.699288 ]\n",
            " [6.091542 ]\n",
            " [6.2683268]\n",
            " [9.240722 ]\n",
            " [7.4647593]\n",
            " [6.597175 ]\n",
            " [5.1742187]\n",
            " [8.181871 ]\n",
            " [6.1517305]\n",
            " [4.9095454]\n",
            " [6.6387906]\n",
            " [4.983475 ]\n",
            " [6.0965214]\n",
            " [5.7092156]\n",
            " [5.94789  ]\n",
            " [6.5972447]\n",
            " [5.6621423]\n",
            " [5.221656 ]\n",
            " [4.661396 ]\n",
            " [7.5942564]\n",
            " [7.0087466]\n",
            " [6.2397013]\n",
            " [6.2560377]\n",
            " [5.299861 ]\n",
            " [6.0389113]\n",
            " [5.883556 ]\n",
            " [5.996429 ]\n",
            " [7.6263347]\n",
            " [5.7375026]\n",
            " [4.4180446]\n",
            " [5.951346 ]\n",
            " [5.43959  ]\n",
            " [6.3196287]\n",
            " [6.5112133]\n",
            " [6.7302184]\n",
            " [5.8778524]\n",
            " [7.6686435]\n",
            " [6.7951035]\n",
            " [6.062251 ]\n",
            " [6.493994 ]\n",
            " [6.031476 ]\n",
            " [6.7269235]\n",
            " [6.9887123]\n",
            " [6.7372146]\n",
            " [4.593714 ]\n",
            " [6.714325 ]\n",
            " [6.522098 ]\n",
            " [5.424194 ]\n",
            " [6.1796327]\n",
            " [6.625767 ]\n",
            " [4.7113805]\n",
            " [6.2469106]\n",
            " [5.099592 ]\n",
            " [6.0285487]\n",
            " [4.8673916]\n",
            " [6.5266953]\n",
            " [6.5112133]\n",
            " [6.3874993]\n",
            " [5.048034 ]]\n"
          ]
        }
      ]
    },
    {
      "cell_type": "markdown",
      "source": [
        "#### Mean squared error를 통해 정량적으로 성능을 측정"
      ],
      "metadata": {
        "id": "MzjOdJ6QaVij"
      }
    },
    {
      "cell_type": "code",
      "source": [
        "from sklearn.metrics import mean_squared_error\n",
        "mse = mean_squared_error(y_pred,y_test)\n",
        "print(mse)"
      ],
      "metadata": {
        "id": "6NSa_BJVab1N",
        "colab": {
          "base_uri": "https://localhost:8080/"
        },
        "outputId": "63e81986-30c4-408a-fd54-537632ffd8cf"
      },
      "execution_count": 36,
      "outputs": [
        {
          "output_type": "stream",
          "name": "stdout",
          "text": [
            "0.6682499834633747\n"
          ]
        }
      ]
    },
    {
      "cell_type": "markdown",
      "source": [
        "#### Epoch에 따른 training loss와 validation loss를 visualization"
      ],
      "metadata": {
        "id": "od_eaDWaah1o"
      }
    },
    {
      "cell_type": "code",
      "source": [
        "history_dict = history.history\n",
        "print(history_dict.keys())\n",
        "\n",
        "loss = history_dict['loss']\n",
        "val_loss = history_dict['val_loss']\n",
        "\n",
        "epoch = range(1, len(loss)+1)\n",
        "\n",
        "plt.plot(epoch, loss, 'bo', label='Training Loss')\n",
        "plt.plot(epoch, val_loss, 'b', label='Validation Loss')\n",
        "plt.title('Training and Validation Loss')\n",
        "plt.xlabel('epoch')\n",
        "plt.ylabel('loss')\n",
        "plt.legend()\n",
        "plt.show()"
      ],
      "metadata": {
        "id": "bCrapsZwajlR",
        "colab": {
          "base_uri": "https://localhost:8080/",
          "height": 312
        },
        "outputId": "2a62feba-9659-423a-a172-a9f3995d3c88"
      },
      "execution_count": 37,
      "outputs": [
        {
          "output_type": "stream",
          "name": "stdout",
          "text": [
            "dict_keys(['loss', 'mean_squared_error', 'val_loss', 'val_mean_squared_error'])\n"
          ]
        },
        {
          "output_type": "display_data",
          "data": {
            "text/plain": [
              "<Figure size 432x288 with 1 Axes>"
            ],
            "image/png": "[encoded data removed]"
          },
          "metadata": {
            "needs_background": "light"
          }
        }
      ]
    },
    {
      "cell_type": "markdown",
      "source": [
        "### Scatter Plot을 이용하여 예측이 잘 되었는지 확인\n"
      ],
      "metadata": {
        "id": "zq-AFjIVIzdp"
      }
    },
    {
      "cell_type": "code",
      "source": [
        "plt.scatter(y_test, y_pred)\n",
        "plt.xlabel('Experimental pIC50')\n",
        "plt.ylabel('Predicted pIC50')\n",
        "\n",
        "plt.grid()\n",
        "plt.xlim(4.5, 11)\n",
        "plt.ylim(4.5, 11)\n",
        "plt.plot(range(4, 12), range(4, 12), \"r--\", label=\"y=x\")\n",
        "plt.show()"
      ],
      "metadata": {
        "id": "ufSUGLa_Ivdu",
        "colab": {
          "base_uri": "https://localhost:8080/",
          "height": 283
        },
        "outputId": "7f0a6af9-3dc6-4eb7-d7e0-badeae388c77"
      },
      "execution_count": 38,
      "outputs": [
        {
          "output_type": "display_data",
          "data": {
            "text/plain": [
              "<Figure size 432x288 with 1 Axes>"
            ],
            "image/png": "[encoded data removed]"
          },
          "metadata": {
            "needs_background": "light"
          }
        }
      ]
    },
    {
      "cell_type": "markdown",
      "source": [
        "## 5. Virtual Screening"
      ],
      "metadata": {
        "id": "kLdKBwh-asB0"
      }
    },
    {
      "cell_type": "markdown",
      "source": [
        "##### Zinc15 database의 Compound Library로부터 새로운 candidate를 찾기\n",
        "##### Compound Library를 csv파일로부터 불러들임"
      ],
      "metadata": {
        "id": "5bHA_c2Jaw0x"
      }
    },
    {
      "cell_type": "code",
      "source": [
        "compound_lib =pd.read_csv('/content/drive/MyDrive/CDK5_INH_P/kinase-substances.csv')\n",
        "print(compound_lib)"
      ],
      "metadata": {
        "id": "_mCBgrDxa54U",
        "colab": {
          "base_uri": "https://localhost:8080/"
        },
        "outputId": "ba32c2ff-eefd-4f8d-b81d-3a68ac737e20"
      },
      "execution_count": 41,
      "outputs": [
        {
          "output_type": "stream",
          "name": "stdout",
          "text": [
            "                zinc_id                                             smiles\n",
            "0      ZINC000023247639  CCN1CCN(Cc2ccc(NC(=O)Nc3ccc(Oc4cc(NC)ncn4)cc3)...\n",
            "1      ZINC000003964325  CCN(CC)CCNC(=O)c1c(C)[nH]c(/C=C2\\C(=O)Nc3ccc(F...\n",
            "2      ZINC000004793192                    CCN1/C(=C/C(C)=O)Sc2ccc(OC)cc21\n",
            "3      ZINC000018825344  Cc1[nH]c(/C=C2\\C(=O)Nc3ccc(F)cc32)c(C)c1C(=O)N...\n",
            "4      ZINC000211266712    COc1cccc(C(=O)Nc2nc3cc4c(cc3[nH]2)OC(F)(F)O4)c1\n",
            "...                 ...                                                ...\n",
            "78309  ZINC000040935360                     Nc1[nH]nc2ccc(-c3cc[nH]n3)cc12\n",
            "78310  ZINC000299856072  COc1cccc(NC(=O)c2cnc(N3CCN(c4ccccc4OC)CC3)c([N...\n",
            "78311  ZINC000103271379  O=C1NC(=O)C(c2c[nH]c3ccccc23)=C1Nc1ccc(OCCNc2c...\n",
            "78312  ZINC000003874496        O=C(Nc1ccc([N+](=O)[O-])cc1Cl)c1cc(Cl)ccc1O\n",
            "78313  ZINC000084654286  CSc1ccccc1Nc1nc(N2CCN(C3CCNCC3)CC2)nc2c(NCC3CC...\n",
            "\n",
            "[78314 rows x 2 columns]\n"
          ]
        }
      ]
    },
    {
      "cell_type": "markdown",
      "source": [
        "#### Input 값은 SMILES"
      ],
      "metadata": {
        "id": "yqdW9JD0a-I9"
      }
    },
    {
      "cell_type": "code",
      "source": [
        "comp_smiles = compound_lib['smiles']"
      ],
      "metadata": {
        "id": "9KSOYnivbHdI"
      },
      "execution_count": 42,
      "outputs": []
    },
    {
      "cell_type": "markdown",
      "source": [
        "#### Compound SMILES로부터 분자 읽어들이기"
      ],
      "metadata": {
        "id": "pyPz3ljTbKnE"
      }
    },
    {
      "cell_type": "code",
      "source": [
        "X_comp = []\n",
        "for i in comp_smiles:\n",
        "    mol = Chem.MolFromSmiles(i)\n",
        "    fp = AllChem.GetMorganFingerprintAsBitVect(mol, 4, nBits=2048),\n",
        "    fp = np.array(fp)\n",
        "    X_comp.append(fp)"
      ],
      "metadata": {
        "id": "1HtaEq_UbKbk"
      },
      "execution_count": 44,
      "outputs": []
    },
    {
      "cell_type": "markdown",
      "source": [
        "#### 개발한 QSAR regression model (Deep learning model :dl_model)을 Compound Library에 적용"
      ],
      "metadata": {
        "id": "Qg6YNLX-bWQK"
      }
    },
    {
      "cell_type": "code",
      "source": [
        "# # 데이터를 tensor로 변환 후\n",
        "X_comp = tf.convert_to_tensor(X_comp)"
      ],
      "metadata": {
        "id": "CguPAXkzbaBh"
      },
      "execution_count": 45,
      "outputs": []
    },
    {
      "cell_type": "code",
      "source": [
        "# dl_model을 통해 예측값을 구함\n",
        "comp_predict = dl_model.predict(X_comp)"
      ],
      "metadata": {
        "id": "-QncDX6DbkKD",
        "colab": {
          "base_uri": "https://localhost:8080/"
        },
        "outputId": "9f186c14-c65d-4d2f-b44e-b95254c50bae"
      },
      "execution_count": 46,
      "outputs": [
        {
          "output_type": "stream",
          "name": "stdout",
          "text": [
            "WARNING:tensorflow:Model was constructed with shape (None, 2048) for input KerasTensor(type_spec=TensorSpec(shape=(None, 2048), dtype=tf.float32, name='A_input'), name='A_input', description=\"created by layer 'A_input'\"), but it was called on an input with incompatible shape (None, 1, 2048).\n"
          ]
        },
        {
          "output_type": "stream",
          "name": "stderr",
          "text": [
            "WARNING:tensorflow:Model was constructed with shape (None, 2048) for input KerasTensor(type_spec=TensorSpec(shape=(None, 2048), dtype=tf.float32, name='A_input'), name='A_input', description=\"created by layer 'A_input'\"), but it was called on an input with incompatible shape (None, 1, 2048).\n"
          ]
        }
      ]
    },
    {
      "cell_type": "markdown",
      "source": [
        "#### 예측값을 compound library 데이터프레임에 새로운 column으로 입력"
      ],
      "metadata": {
        "id": "bhZrztL2bgno"
      }
    },
    {
      "cell_type": "code",
      "source": [
        "compound_lib"
      ],
      "metadata": {
        "colab": {
          "base_uri": "https://localhost:8080/",
          "height": 424
        },
        "id": "aeNOKA0K7N-w",
        "outputId": "3426ccb9-be3a-4021-b01a-d7248d0baee0"
      },
      "execution_count": 47,
      "outputs": [
        {
          "output_type": "execute_result",
          "data": {
            "text/plain": [
              "                zinc_id                                             smiles\n",
              "0      ZINC000023247639  CCN1CCN(Cc2ccc(NC(=O)Nc3ccc(Oc4cc(NC)ncn4)cc3)...\n",
              "1      ZINC000003964325  CCN(CC)CCNC(=O)c1c(C)[nH]c(/C=C2\\C(=O)Nc3ccc(F...\n",
              "2      ZINC000004793192                    CCN1/C(=C/C(C)=O)Sc2ccc(OC)cc21\n",
              "3      ZINC000018825344  Cc1[nH]c(/C=C2\\C(=O)Nc3ccc(F)cc32)c(C)c1C(=O)N...\n",
              "4      ZINC000211266712    COc1cccc(C(=O)Nc2nc3cc4c(cc3[nH]2)OC(F)(F)O4)c1\n",
              "...                 ...                                                ...\n",
              "78309  ZINC000040935360                     Nc1[nH]nc2ccc(-c3cc[nH]n3)cc12\n",
              "78310  ZINC000299856072  COc1cccc(NC(=O)c2cnc(N3CCN(c4ccccc4OC)CC3)c([N...\n",
              "78311  ZINC000103271379  O=C1NC(=O)C(c2c[nH]c3ccccc23)=C1Nc1ccc(OCCNc2c...\n",
              "78312  ZINC000003874496        O=C(Nc1ccc([N+](=O)[O-])cc1Cl)c1cc(Cl)ccc1O\n",
              "78313  ZINC000084654286  CSc1ccccc1Nc1nc(N2CCN(C3CCNCC3)CC2)nc2c(NCC3CC...\n",
              "\n",
              "[78314 rows x 2 columns]"
            ],
            "text/html": [
              "\n",
              "  <div id=\"df-47b33bfd-981d-4f84-8992-8aa121f5fdaf\">\n",
              "    <div class=\"colab-df-container\">\n",
              "      <div>\n",
              "<style scoped>\n",
              "    .dataframe tbody tr th:only-of-type {\n",
              "        vertical-align: middle;\n",
              "    }\n",
              "\n",
              "    .dataframe tbody tr th {\n",
              "        vertical-align: top;\n",
              "    }\n",
              "\n",
              "    .dataframe thead th {\n",
              "        text-align: right;\n",
              "    }\n",
              "</style>\n",
              "<table border=\"1\" class=\"dataframe\">\n",
              "  <thead>\n",
              "    <tr style=\"text-align: right;\">\n",
              "      <th></th>\n",
              "      <th>zinc_id</th>\n",
              "      <th>smiles</th>\n",
              "    </tr>\n",
              "  </thead>\n",
              "  <tbody>\n",
              "    <tr>\n",
              "      <th>0</th>\n",
              "      <td>ZINC000023247639</td>\n",
              "      <td>CCN1CCN(Cc2ccc(NC(=O)Nc3ccc(Oc4cc(NC)ncn4)cc3)...</td>\n",
              "    </tr>\n",
              "    <tr>\n",
              "      <th>1</th>\n",
              "      <td>ZINC000003964325</td>\n",
              "      <td>CCN(CC)CCNC(=O)c1c(C)[nH]c(/C=C2\\C(=O)Nc3ccc(F...</td>\n",
              "    </tr>\n",
              "    <tr>\n",
              "      <th>2</th>\n",
              "      <td>ZINC000004793192</td>\n",
              "      <td>CCN1/C(=C/C(C)=O)Sc2ccc(OC)cc21</td>\n",
              "    </tr>\n",
              "    <tr>\n",
              "      <th>3</th>\n",
              "      <td>ZINC000018825344</td>\n",
              "      <td>Cc1[nH]c(/C=C2\\C(=O)Nc3ccc(F)cc32)c(C)c1C(=O)N...</td>\n",
              "    </tr>\n",
              "    <tr>\n",
              "      <th>4</th>\n",
              "      <td>ZINC000211266712</td>\n",
              "      <td>COc1cccc(C(=O)Nc2nc3cc4c(cc3[nH]2)OC(F)(F)O4)c1</td>\n",
              "    </tr>\n",
              "    <tr>\n",
              "      <th>...</th>\n",
              "      <td>...</td>\n",
              "      <td>...</td>\n",
              "    </tr>\n",
              "    <tr>\n",
              "      <th>78309</th>\n",
              "      <td>ZINC000040935360</td>\n",
              "      <td>Nc1[nH]nc2ccc(-c3cc[nH]n3)cc12</td>\n",
              "    </tr>\n",
              "    <tr>\n",
              "      <th>78310</th>\n",
              "      <td>ZINC000299856072</td>\n",
              "      <td>COc1cccc(NC(=O)c2cnc(N3CCN(c4ccccc4OC)CC3)c([N...</td>\n",
              "    </tr>\n",
              "    <tr>\n",
              "      <th>78311</th>\n",
              "      <td>ZINC000103271379</td>\n",
              "      <td>O=C1NC(=O)C(c2c[nH]c3ccccc23)=C1Nc1ccc(OCCNc2c...</td>\n",
              "    </tr>\n",
              "    <tr>\n",
              "      <th>78312</th>\n",
              "      <td>ZINC000003874496</td>\n",
              "      <td>O=C(Nc1ccc([N+](=O)[O-])cc1Cl)c1cc(Cl)ccc1O</td>\n",
              "    </tr>\n",
              "    <tr>\n",
              "      <th>78313</th>\n",
              "      <td>ZINC000084654286</td>\n",
              "      <td>CSc1ccccc1Nc1nc(N2CCN(C3CCNCC3)CC2)nc2c(NCC3CC...</td>\n",
              "    </tr>\n",
              "  </tbody>\n",
              "</table>\n",
              "<p>78314 rows × 2 columns</p>\n",
              "</div>\n",
              "      <button class=\"colab-df-convert\" onclick=\"convertToInteractive('df-47b33bfd-981d-4f84-8992-8aa121f5fdaf')\"\n",
              "              title=\"Convert this dataframe to an interactive table.\"\n",
              "              style=\"display:none;\">\n",
              "        \n",
              "  <svg xmlns=\"http://www.w3.org/2000/svg\" height=\"24px\"viewBox=\"0 0 24 24\"\n",
              "       width=\"24px\">\n",
              "    <path d=\"M0 0h24v24H0V0z\" fill=\"none\"/>\n",
              "    <path d=\"M18.56 5.44l.94 2.06.94-2.06 2.06-.94-2.06-.94-.94-2.06-.94 2.06-2.06.94zm-11 1L8.5 8.5l.94-2.06 2.06-.94-2.06-.94L8.5 2.5l-.94 2.06-2.06.94zm10 10l.94 2.06.94-2.06 2.06-.94-2.06-.94-.94-2.06-.94 2.06-2.06.94z\"/><path d=\"M17.41 7.96l-1.37-1.37c-.4-.4-.92-.59-1.43-.59-.52 0-1.04.2-1.43.59L10.3 9.45l-7.72 7.72c-.78.78-.78 2.05 0 2.83L4 21.41c.39.39.9.59 1.41.59.51 0 1.02-.2 1.41-.59l7.78-7.78 2.81-2.81c.8-.78.8-2.07 0-2.86zM5.41 20L4 18.59l7.72-7.72 1.47 1.35L5.41 20z\"/>\n",
              "  </svg>\n",
              "      </button>\n",
              "      \n",
              "  <style>\n",
              "    .colab-df-container {\n",
              "      display:flex;\n",
              "      flex-wrap:wrap;\n",
              "      gap: 12px;\n",
              "    }\n",
              "\n",
              "    .colab-df-convert {\n",
              "      background-color: #E8F0FE;\n",
              "      border: none;\n",
              "      border-radius: 50%;\n",
              "      cursor: pointer;\n",
              "      display: none;\n",
              "      fill: #1967D2;\n",
              "      height: 32px;\n",
              "      padding: 0 0 0 0;\n",
              "      width: 32px;\n",
              "    }\n",
              "\n",
              "    .colab-df-convert:hover {\n",
              "      background-color: #E2EBFA;\n",
              "      box-shadow: 0px 1px 2px rgba(60, 64, 67, 0.3), 0px 1px 3px 1px rgba(60, 64, 67, 0.15);\n",
              "      fill: #174EA6;\n",
              "    }\n",
              "\n",
              "    [theme=dark] .colab-df-convert {\n",
              "      background-color: #3B4455;\n",
              "      fill: #D2E3FC;\n",
              "    }\n",
              "\n",
              "    [theme=dark] .colab-df-convert:hover {\n",
              "      background-color: #434B5C;\n",
              "      box-shadow: 0px 1px 3px 1px rgba(0, 0, 0, 0.15);\n",
              "      filter: drop-shadow(0px 1px 2px rgba(0, 0, 0, 0.3));\n",
              "      fill: #FFFFFF;\n",
              "    }\n",
              "  </style>\n",
              "\n",
              "      <script>\n",
              "        const buttonEl =\n",
              "          document.querySelector('#df-47b33bfd-981d-4f84-8992-8aa121f5fdaf button.colab-df-convert');\n",
              "        buttonEl.style.display =\n",
              "          google.colab.kernel.accessAllowed ? 'block' : 'none';\n",
              "\n",
              "        async function convertToInteractive(key) {\n",
              "          const element = document.querySelector('#df-47b33bfd-981d-4f84-8992-8aa121f5fdaf');\n",
              "          const dataTable =\n",
              "            await google.colab.kernel.invokeFunction('convertToInteractive',\n",
              "                                                     [key], {});\n",
              "          if (!dataTable) return;\n",
              "\n",
              "          const docLinkHtml = 'Like what you see? Visit the ' +\n",
              "            '<a target=\"_blank\" href=https://colab.research.google.com/notebooks/data_table.ipynb>data table notebook</a>'\n",
              "            + ' to learn more about interactive tables.';\n",
              "          element.innerHTML = '';\n",
              "          dataTable['output_type'] = 'display_data';\n",
              "          await google.colab.output.renderOutput(dataTable, element);\n",
              "          const docLink = document.createElement('div');\n",
              "          docLink.innerHTML = docLinkHtml;\n",
              "          element.appendChild(docLink);\n",
              "        }\n",
              "      </script>\n",
              "    </div>\n",
              "  </div>\n",
              "  "
            ]
          },
          "metadata": {},
          "execution_count": 47
        }
      ]
    },
    {
      "cell_type": "code",
      "source": [
        "comp_predict"
      ],
      "metadata": {
        "colab": {
          "base_uri": "https://localhost:8080/"
        },
        "id": "-sN44sc67RlR",
        "outputId": "7f3d4ee2-13ae-4c34-ef53-4eda7af16808"
      },
      "execution_count": 48,
      "outputs": [
        {
          "output_type": "execute_result",
          "data": {
            "text/plain": [
              "array([[[6.042213 ]],\n",
              "\n",
              "       [[6.2349877]],\n",
              "\n",
              "       [[2.8143477]],\n",
              "\n",
              "       ...,\n",
              "\n",
              "       [[7.207413 ]],\n",
              "\n",
              "       [[4.193977 ]],\n",
              "\n",
              "       [[6.706017 ]]], dtype=float32)"
            ]
          },
          "metadata": {},
          "execution_count": 48
        }
      ]
    },
    {
      "cell_type": "code",
      "source": [
        "comp_predict=comp_predict.reshape(78314,-1)"
      ],
      "metadata": {
        "id": "PjeaUnbR7Vqf"
      },
      "execution_count": 49,
      "outputs": []
    },
    {
      "cell_type": "code",
      "source": [
        "compound_lib['predicted_pIC50'] = comp_predict"
      ],
      "metadata": {
        "id": "5HwMbuGg6956"
      },
      "execution_count": 50,
      "outputs": []
    },
    {
      "cell_type": "code",
      "source": [
        "print(compound_lib)"
      ],
      "metadata": {
        "colab": {
          "base_uri": "https://localhost:8080/"
        },
        "id": "b2P0zPmF7I_5",
        "outputId": "15c8efb7-6895-4364-e28b-67aa997c832d"
      },
      "execution_count": 51,
      "outputs": [
        {
          "output_type": "stream",
          "name": "stdout",
          "text": [
            "                zinc_id                                             smiles  \\\n",
            "0      ZINC000023247639  CCN1CCN(Cc2ccc(NC(=O)Nc3ccc(Oc4cc(NC)ncn4)cc3)...   \n",
            "1      ZINC000003964325  CCN(CC)CCNC(=O)c1c(C)[nH]c(/C=C2\\C(=O)Nc3ccc(F...   \n",
            "2      ZINC000004793192                    CCN1/C(=C/C(C)=O)Sc2ccc(OC)cc21   \n",
            "3      ZINC000018825344  Cc1[nH]c(/C=C2\\C(=O)Nc3ccc(F)cc32)c(C)c1C(=O)N...   \n",
            "4      ZINC000211266712    COc1cccc(C(=O)Nc2nc3cc4c(cc3[nH]2)OC(F)(F)O4)c1   \n",
            "...                 ...                                                ...   \n",
            "78309  ZINC000040935360                     Nc1[nH]nc2ccc(-c3cc[nH]n3)cc12   \n",
            "78310  ZINC000299856072  COc1cccc(NC(=O)c2cnc(N3CCN(c4ccccc4OC)CC3)c([N...   \n",
            "78311  ZINC000103271379  O=C1NC(=O)C(c2c[nH]c3ccccc23)=C1Nc1ccc(OCCNc2c...   \n",
            "78312  ZINC000003874496        O=C(Nc1ccc([N+](=O)[O-])cc1Cl)c1cc(Cl)ccc1O   \n",
            "78313  ZINC000084654286  CSc1ccccc1Nc1nc(N2CCN(C3CCNCC3)CC2)nc2c(NCC3CC...   \n",
            "\n",
            "       predicted_pIC50  \n",
            "0             6.042213  \n",
            "1             6.234988  \n",
            "2             2.814348  \n",
            "3             7.372351  \n",
            "4             4.101440  \n",
            "...                ...  \n",
            "78309         3.879038  \n",
            "78310         4.764225  \n",
            "78311         7.207413  \n",
            "78312         4.193977  \n",
            "78313         6.706017  \n",
            "\n",
            "[78314 rows x 3 columns]\n"
          ]
        }
      ]
    },
    {
      "cell_type": "markdown",
      "source": [
        "#### 전체 compound library 데이터를 'predicted_pIC50'값으로 내림차순 정렬\n",
        "- 참고자료: https://pandas.pydata.org/docs/reference/api/pandas.DataFrame.sort_values.html"
      ],
      "metadata": {
        "id": "J_umCngfbz2k"
      }
    },
    {
      "cell_type": "code",
      "source": [
        "sorted_data = compound_lib.sort_values(by=['predicted_pIC50'], ascending=False)\n",
        "print(sorted_data)"
      ],
      "metadata": {
        "id": "31ccjR90b2Nt",
        "colab": {
          "base_uri": "https://localhost:8080/"
        },
        "outputId": "00e4032c-0316-43f7-ff4d-456b093c82ff"
      },
      "execution_count": 52,
      "outputs": [
        {
          "output_type": "stream",
          "name": "stdout",
          "text": [
            "                zinc_id                                             smiles  \\\n",
            "34005  ZINC000049678415  C[C@H](Nc1nccc(-n2cnc3cc(-c4ccnc(N)n4)ccc32)n1...   \n",
            "1734   ZINC000299854912  Cc1c(NC(=O)c2ccc(C(C)(C)C)cc2)cccc1-c1cn(C)c(=...   \n",
            "1735   ZINC000299854917  Cc1c(NC(=O)c2ccc(C(C)(C)C)cc2)cccc1-c1cn(C)c(=...   \n",
            "67663  ZINC000034799979  CS(=O)(=O)CCNC(=O)NCc1cccc(C#Cc2cncnc2Nc2ccc(O...   \n",
            "65010  ZINC000034799979  CS(=O)(=O)CCNC(=O)NCc1cccc(C#Cc2cncnc2Nc2ccc(O...   \n",
            "...                 ...                                                ...   \n",
            "74219  ZINC000001529266                         CCN(CC)C(=S)SSC(=S)N(CC)CC   \n",
            "30137  ZINC000013125787     O=C1NC(=O)/C(=C/c2ccc(/C=C3/NC(=O)NC3=O)cc2)N1   \n",
            "70192  ZINC000000010286                    N#CC(C#N)=C(O)c1cc(O)c(O)c(O)c1   \n",
            "41655  ZINC000008437745                                            NC(N)=S   \n",
            "41703  ZINC000008437745                                            NC(N)=S   \n",
            "\n",
            "       predicted_pIC50  \n",
            "34005        11.546148  \n",
            "1734         11.157328  \n",
            "1735         11.157328  \n",
            "67663        10.804908  \n",
            "65010        10.804908  \n",
            "...                ...  \n",
            "74219         1.642276  \n",
            "30137         1.630385  \n",
            "70192         1.461918  \n",
            "41655         1.021821  \n",
            "41703         1.021821  \n",
            "\n",
            "[78314 rows x 3 columns]\n"
          ]
        }
      ]
    },
    {
      "cell_type": "markdown",
      "source": [
        "#### 가장 높은 activity를 보일 것으로 예측된 100개의 후보물질들을 뽑음\n",
        "- 참고자료: https://pandas.pydata.org/docs/reference/api/pandas.DataFrame.iloc.html"
      ],
      "metadata": {
        "id": "XT7hfWd1cFcP"
      }
    },
    {
      "cell_type": "code",
      "source": [
        "candidates = sorted_data.head(100)\n",
        "print(candidates)"
      ],
      "metadata": {
        "id": "ZPrqNZeicIEk",
        "colab": {
          "base_uri": "https://localhost:8080/"
        },
        "outputId": "80e1c7cb-81a8-460d-a52b-cf400165e3f3"
      },
      "execution_count": 53,
      "outputs": [
        {
          "output_type": "stream",
          "name": "stdout",
          "text": [
            "                zinc_id                                             smiles  \\\n",
            "34005  ZINC000049678415  C[C@H](Nc1nccc(-n2cnc3cc(-c4ccnc(N)n4)ccc32)n1...   \n",
            "1734   ZINC000299854912  Cc1c(NC(=O)c2ccc(C(C)(C)C)cc2)cccc1-c1cn(C)c(=...   \n",
            "1735   ZINC000299854917  Cc1c(NC(=O)c2ccc(C(C)(C)C)cc2)cccc1-c1cn(C)c(=...   \n",
            "67663  ZINC000034799979  CS(=O)(=O)CCNC(=O)NCc1cccc(C#Cc2cncnc2Nc2ccc(O...   \n",
            "65010  ZINC000034799979  CS(=O)(=O)CCNC(=O)NCc1cccc(C#Cc2cncnc2Nc2ccc(O...   \n",
            "...                 ...                                                ...   \n",
            "1394   ZINC000143841389  CN1Cc2cc(Nc3ncc4c(=O)n(-c5c(F)cccc5Cl)c5nccn5c...   \n",
            "13440  ZINC000043206164  CCOC(=O)N1CCCOc2cc(Nc3ncc(Cl)c(Nc4c(F)cccc4C(=...   \n",
            "66571  ZINC000043206164  CCOC(=O)N1CCCOc2cc(Nc3ncc(Cl)c(Nc4c(F)cccc4C(=...   \n",
            "63037  ZINC000049784464  Cc1cc(N2CCN(CC(=O)NCCF)CC2)cc2[nH]c(-c3c(NC[C@...   \n",
            "31069  ZINC000039287486  CCOc1nc(N[C@@H](Cc2ccc3c(c2)COC(C)(C)O3)C(=O)N...   \n",
            "\n",
            "       predicted_pIC50  \n",
            "34005        11.546148  \n",
            "1734         11.157328  \n",
            "1735         11.157328  \n",
            "67663        10.804908  \n",
            "65010        10.804908  \n",
            "...                ...  \n",
            "1394          9.369492  \n",
            "13440         9.367558  \n",
            "66571         9.367558  \n",
            "63037         9.364157  \n",
            "31069         9.363581  \n",
            "\n",
            "[100 rows x 3 columns]\n"
          ]
        }
      ]
    },
    {
      "cell_type": "markdown",
      "source": [
        "## 6. Training에 활용된 데이터와 비슷한 Ligand 제거"
      ],
      "metadata": {
        "id": "nPj0V9vkccB3"
      }
    },
    {
      "cell_type": "markdown",
      "source": [
        "#### 후보물질들의 SMILES를 구함"
      ],
      "metadata": {
        "id": "M1tPSEpNchvS"
      }
    },
    {
      "cell_type": "code",
      "source": [
        "cand_smiles = candidates['smiles']\n",
        "print(cand_smiles)"
      ],
      "metadata": {
        "id": "V28ri9aYcgSV",
        "colab": {
          "base_uri": "https://localhost:8080/"
        },
        "outputId": "9c1e70cd-eab5-4e74-a11d-90765be1fc78"
      },
      "execution_count": 55,
      "outputs": [
        {
          "output_type": "stream",
          "name": "stdout",
          "text": [
            "34005    C[C@H](Nc1nccc(-n2cnc3cc(-c4ccnc(N)n4)ccc32)n1...\n",
            "1734     Cc1c(NC(=O)c2ccc(C(C)(C)C)cc2)cccc1-c1cn(C)c(=...\n",
            "1735     Cc1c(NC(=O)c2ccc(C(C)(C)C)cc2)cccc1-c1cn(C)c(=...\n",
            "67663    CS(=O)(=O)CCNC(=O)NCc1cccc(C#Cc2cncnc2Nc2ccc(O...\n",
            "65010    CS(=O)(=O)CCNC(=O)NCc1cccc(C#Cc2cncnc2Nc2ccc(O...\n",
            "                               ...                        \n",
            "1394     CN1Cc2cc(Nc3ncc4c(=O)n(-c5c(F)cccc5Cl)c5nccn5c...\n",
            "13440    CCOC(=O)N1CCCOc2cc(Nc3ncc(Cl)c(Nc4c(F)cccc4C(=...\n",
            "66571    CCOC(=O)N1CCCOc2cc(Nc3ncc(Cl)c(Nc4c(F)cccc4C(=...\n",
            "63037    Cc1cc(N2CCN(CC(=O)NCCF)CC2)cc2[nH]c(-c3c(NC[C@...\n",
            "31069    CCOc1nc(N[C@@H](Cc2ccc3c(c2)COC(C)(C)O3)C(=O)N...\n",
            "Name: smiles, Length: 100, dtype: object\n"
          ]
        }
      ]
    },
    {
      "cell_type": "markdown",
      "source": [
        "#### 후보물질 및 Training 데이터의 SMILES로부터 ECFP Fingerprint 생성 (as a bit-vector)"
      ],
      "metadata": {
        "id": "j6XX5qp1cl9c"
      }
    },
    {
      "cell_type": "code",
      "source": [
        "# 후보물질들의 SMILES로부터 분자 읽어들이기\n",
        "zincs = []\n",
        "for i in cand_smiles:\n",
        "    mol = Chem.MolFromSmiles(i)\n",
        "    fp = AllChem.GetMorganFingerprintAsBitVect(mol, 4, nBits=1024)                                                       # numpy로 변환해서는 안됨\n",
        "    zincs.append(fp)\n",
        "\n",
        "\n",
        "# Training에 활용된 데이터의 SMILES로부터 분자 읽어들이기\n",
        "chembls = []\n",
        "for i in smiles:\n",
        "    mol = Chem.MolFromSmiles(i)\n",
        "    fp = AllChem.GetMorganFingerprintAsBitVect(mol, 4, nBits=1024)                                                             # numpy로 변환해서는 안됨\n",
        "    chembls.append(fp)"
      ],
      "metadata": {
        "id": "pIXSTlhYcqjF"
      },
      "execution_count": 56,
      "outputs": []
    },
    {
      "cell_type": "markdown",
      "source": [
        "#### 분자 사이의 유사도 계산"
      ],
      "metadata": {
        "id": "5q3idjySc4WH"
      }
    },
    {
      "cell_type": "code",
      "source": [
        "from rdkit import DataStructs\n",
        "sims = []                                                          # 후보물질의 각 분자 당 유사도의 최고값을 저장\n",
        "for x in zincs:                                                    # 후보물질들을 하나씩 불러옴 (x)\n",
        "    max_similarity = -9999\n",
        "    for y in chembls:                                              # Training 데이터를 하나씩 불러옴 (y)\n",
        "        similarity = DataStructs.FingerprintSimilarity(x, y)       # 후보물질과 Training 데이터의 Tanimoto 유사도 계산\n",
        "        if max_similarity < similarity:\n",
        "            max_similarity = similarity\n",
        "    sims.append(max_similarity)                                    # 가장 높은 유사도를 저장"
      ],
      "metadata": {
        "id": "YSd3dZ2Oc5i0"
      },
      "execution_count": 57,
      "outputs": []
    },
    {
      "cell_type": "markdown",
      "source": [
        "####Tanimoto 유사도 최고값을 candidate 데이터프레임에 새로운 column으로 입력"
      ],
      "metadata": {
        "id": "8rJti1HNdAhn"
      }
    },
    {
      "cell_type": "code",
      "source": [
        "candidates.insert(2, \"max_tanimoto_similarity\", sims, True)\n",
        "candidates"
      ],
      "metadata": {
        "id": "i43nBMUHdCsp",
        "colab": {
          "base_uri": "https://localhost:8080/",
          "height": 424
        },
        "outputId": "85481a80-6bb0-442e-9592-7e3f9a58e021"
      },
      "execution_count": 58,
      "outputs": [
        {
          "output_type": "execute_result",
          "data": {
            "text/plain": [
              "                zinc_id                                             smiles  \\\n",
              "34005  ZINC000049678415  C[C@H](Nc1nccc(-n2cnc3cc(-c4ccnc(N)n4)ccc32)n1...   \n",
              "1734   ZINC000299854912  Cc1c(NC(=O)c2ccc(C(C)(C)C)cc2)cccc1-c1cn(C)c(=...   \n",
              "1735   ZINC000299854917  Cc1c(NC(=O)c2ccc(C(C)(C)C)cc2)cccc1-c1cn(C)c(=...   \n",
              "67663  ZINC000034799979  CS(=O)(=O)CCNC(=O)NCc1cccc(C#Cc2cncnc2Nc2ccc(O...   \n",
              "65010  ZINC000034799979  CS(=O)(=O)CCNC(=O)NCc1cccc(C#Cc2cncnc2Nc2ccc(O...   \n",
              "...                 ...                                                ...   \n",
              "1394   ZINC000143841389  CN1Cc2cc(Nc3ncc4c(=O)n(-c5c(F)cccc5Cl)c5nccn5c...   \n",
              "13440  ZINC000043206164  CCOC(=O)N1CCCOc2cc(Nc3ncc(Cl)c(Nc4c(F)cccc4C(=...   \n",
              "66571  ZINC000043206164  CCOC(=O)N1CCCOc2cc(Nc3ncc(Cl)c(Nc4c(F)cccc4C(=...   \n",
              "63037  ZINC000049784464  Cc1cc(N2CCN(CC(=O)NCCF)CC2)cc2[nH]c(-c3c(NC[C@...   \n",
              "31069  ZINC000039287486  CCOc1nc(N[C@@H](Cc2ccc3c(c2)COC(C)(C)O3)C(=O)N...   \n",
              "\n",
              "       max_tanimoto_similarity  predicted_pIC50  \n",
              "34005                 0.202830        11.546148  \n",
              "1734                  0.175182        11.157328  \n",
              "1735                  0.175182        11.157328  \n",
              "67663                 0.188235        10.804908  \n",
              "65010                 0.188235        10.804908  \n",
              "...                        ...              ...  \n",
              "1394                  0.195266         9.369492  \n",
              "13440                 0.207071         9.367558  \n",
              "66571                 0.207071         9.367558  \n",
              "63037                 0.206349         9.364157  \n",
              "31069                 0.169643         9.363581  \n",
              "\n",
              "[100 rows x 4 columns]"
            ],
            "text/html": [
              "\n",
              "  <div id=\"df-48682d0e-2c57-4f18-bfec-df58eeb823ed\">\n",
              "    <div class=\"colab-df-container\">\n",
              "      <div>\n",
              "<style scoped>\n",
              "    .dataframe tbody tr th:only-of-type {\n",
              "        vertical-align: middle;\n",
              "    }\n",
              "\n",
              "    .dataframe tbody tr th {\n",
              "        vertical-align: top;\n",
              "    }\n",
              "\n",
              "    .dataframe thead th {\n",
              "        text-align: right;\n",
              "    }\n",
              "</style>\n",
              "<table border=\"1\" class=\"dataframe\">\n",
              "  <thead>\n",
              "    <tr style=\"text-align: right;\">\n",
              "      <th></th>\n",
              "      <th>zinc_id</th>\n",
              "      <th>smiles</th>\n",
              "      <th>max_tanimoto_similarity</th>\n",
              "      <th>predicted_pIC50</th>\n",
              "    </tr>\n",
              "  </thead>\n",
              "  <tbody>\n",
              "    <tr>\n",
              "      <th>34005</th>\n",
              "      <td>ZINC000049678415</td>\n",
              "      <td>C[C@H](Nc1nccc(-n2cnc3cc(-c4ccnc(N)n4)ccc32)n1...</td>\n",
              "      <td>0.202830</td>\n",
              "      <td>11.546148</td>\n",
              "    </tr>\n",
              "    <tr>\n",
              "      <th>1734</th>\n",
              "      <td>ZINC000299854912</td>\n",
              "      <td>Cc1c(NC(=O)c2ccc(C(C)(C)C)cc2)cccc1-c1cn(C)c(=...</td>\n",
              "      <td>0.175182</td>\n",
              "      <td>11.157328</td>\n",
              "    </tr>\n",
              "    <tr>\n",
              "      <th>1735</th>\n",
              "      <td>ZINC000299854917</td>\n",
              "      <td>Cc1c(NC(=O)c2ccc(C(C)(C)C)cc2)cccc1-c1cn(C)c(=...</td>\n",
              "      <td>0.175182</td>\n",
              "      <td>11.157328</td>\n",
              "    </tr>\n",
              "    <tr>\n",
              "      <th>67663</th>\n",
              "      <td>ZINC000034799979</td>\n",
              "      <td>CS(=O)(=O)CCNC(=O)NCc1cccc(C#Cc2cncnc2Nc2ccc(O...</td>\n",
              "      <td>0.188235</td>\n",
              "      <td>10.804908</td>\n",
              "    </tr>\n",
              "    <tr>\n",
              "      <th>65010</th>\n",
              "      <td>ZINC000034799979</td>\n",
              "      <td>CS(=O)(=O)CCNC(=O)NCc1cccc(C#Cc2cncnc2Nc2ccc(O...</td>\n",
              "      <td>0.188235</td>\n",
              "      <td>10.804908</td>\n",
              "    </tr>\n",
              "    <tr>\n",
              "      <th>...</th>\n",
              "      <td>...</td>\n",
              "      <td>...</td>\n",
              "      <td>...</td>\n",
              "      <td>...</td>\n",
              "    </tr>\n",
              "    <tr>\n",
              "      <th>1394</th>\n",
              "      <td>ZINC000143841389</td>\n",
              "      <td>CN1Cc2cc(Nc3ncc4c(=O)n(-c5c(F)cccc5Cl)c5nccn5c...</td>\n",
              "      <td>0.195266</td>\n",
              "      <td>9.369492</td>\n",
              "    </tr>\n",
              "    <tr>\n",
              "      <th>13440</th>\n",
              "      <td>ZINC000043206164</td>\n",
              "      <td>CCOC(=O)N1CCCOc2cc(Nc3ncc(Cl)c(Nc4c(F)cccc4C(=...</td>\n",
              "      <td>0.207071</td>\n",
              "      <td>9.367558</td>\n",
              "    </tr>\n",
              "    <tr>\n",
              "      <th>66571</th>\n",
              "      <td>ZINC000043206164</td>\n",
              "      <td>CCOC(=O)N1CCCOc2cc(Nc3ncc(Cl)c(Nc4c(F)cccc4C(=...</td>\n",
              "      <td>0.207071</td>\n",
              "      <td>9.367558</td>\n",
              "    </tr>\n",
              "    <tr>\n",
              "      <th>63037</th>\n",
              "      <td>ZINC000049784464</td>\n",
              "      <td>Cc1cc(N2CCN(CC(=O)NCCF)CC2)cc2[nH]c(-c3c(NC[C@...</td>\n",
              "      <td>0.206349</td>\n",
              "      <td>9.364157</td>\n",
              "    </tr>\n",
              "    <tr>\n",
              "      <th>31069</th>\n",
              "      <td>ZINC000039287486</td>\n",
              "      <td>CCOc1nc(N[C@@H](Cc2ccc3c(c2)COC(C)(C)O3)C(=O)N...</td>\n",
              "      <td>0.169643</td>\n",
              "      <td>9.363581</td>\n",
              "    </tr>\n",
              "  </tbody>\n",
              "</table>\n",
              "<p>100 rows × 4 columns</p>\n",
              "</div>\n",
              "      <button class=\"colab-df-convert\" onclick=\"convertToInteractive('df-48682d0e-2c57-4f18-bfec-df58eeb823ed')\"\n",
              "              title=\"Convert this dataframe to an interactive table.\"\n",
              "              style=\"display:none;\">\n",
              "        \n",
              "  <svg xmlns=\"http://www.w3.org/2000/svg\" height=\"24px\"viewBox=\"0 0 24 24\"\n",
              "       width=\"24px\">\n",
              "    <path d=\"M0 0h24v24H0V0z\" fill=\"none\"/>\n",
              "    <path d=\"M18.56 5.44l.94 2.06.94-2.06 2.06-.94-2.06-.94-.94-2.06-.94 2.06-2.06.94zm-11 1L8.5 8.5l.94-2.06 2.06-.94-2.06-.94L8.5 2.5l-.94 2.06-2.06.94zm10 10l.94 2.06.94-2.06 2.06-.94-2.06-.94-.94-2.06-.94 2.06-2.06.94z\"/><path d=\"M17.41 7.96l-1.37-1.37c-.4-.4-.92-.59-1.43-.59-.52 0-1.04.2-1.43.59L10.3 9.45l-7.72 7.72c-.78.78-.78 2.05 0 2.83L4 21.41c.39.39.9.59 1.41.59.51 0 1.02-.2 1.41-.59l7.78-7.78 2.81-2.81c.8-.78.8-2.07 0-2.86zM5.41 20L4 18.59l7.72-7.72 1.47 1.35L5.41 20z\"/>\n",
              "  </svg>\n",
              "      </button>\n",
              "      \n",
              "  <style>\n",
              "    .colab-df-container {\n",
              "      display:flex;\n",
              "      flex-wrap:wrap;\n",
              "      gap: 12px;\n",
              "    }\n",
              "\n",
              "    .colab-df-convert {\n",
              "      background-color: #E8F0FE;\n",
              "      border: none;\n",
              "      border-radius: 50%;\n",
              "      cursor: pointer;\n",
              "      display: none;\n",
              "      fill: #1967D2;\n",
              "      height: 32px;\n",
              "      padding: 0 0 0 0;\n",
              "      width: 32px;\n",
              "    }\n",
              "\n",
              "    .colab-df-convert:hover {\n",
              "      background-color: #E2EBFA;\n",
              "      box-shadow: 0px 1px 2px rgba(60, 64, 67, 0.3), 0px 1px 3px 1px rgba(60, 64, 67, 0.15);\n",
              "      fill: #174EA6;\n",
              "    }\n",
              "\n",
              "    [theme=dark] .colab-df-convert {\n",
              "      background-color: #3B4455;\n",
              "      fill: #D2E3FC;\n",
              "    }\n",
              "\n",
              "    [theme=dark] .colab-df-convert:hover {\n",
              "      background-color: #434B5C;\n",
              "      box-shadow: 0px 1px 3px 1px rgba(0, 0, 0, 0.15);\n",
              "      filter: drop-shadow(0px 1px 2px rgba(0, 0, 0, 0.3));\n",
              "      fill: #FFFFFF;\n",
              "    }\n",
              "  </style>\n",
              "\n",
              "      <script>\n",
              "        const buttonEl =\n",
              "          document.querySelector('#df-48682d0e-2c57-4f18-bfec-df58eeb823ed button.colab-df-convert');\n",
              "        buttonEl.style.display =\n",
              "          google.colab.kernel.accessAllowed ? 'block' : 'none';\n",
              "\n",
              "        async function convertToInteractive(key) {\n",
              "          const element = document.querySelector('#df-48682d0e-2c57-4f18-bfec-df58eeb823ed');\n",
              "          const dataTable =\n",
              "            await google.colab.kernel.invokeFunction('convertToInteractive',\n",
              "                                                     [key], {});\n",
              "          if (!dataTable) return;\n",
              "\n",
              "          const docLinkHtml = 'Like what you see? Visit the ' +\n",
              "            '<a target=\"_blank\" href=https://colab.research.google.com/notebooks/data_table.ipynb>data table notebook</a>'\n",
              "            + ' to learn more about interactive tables.';\n",
              "          element.innerHTML = '';\n",
              "          dataTable['output_type'] = 'display_data';\n",
              "          await google.colab.output.renderOutput(dataTable, element);\n",
              "          const docLink = document.createElement('div');\n",
              "          docLink.innerHTML = docLinkHtml;\n",
              "          element.appendChild(docLink);\n",
              "        }\n",
              "      </script>\n",
              "    </div>\n",
              "  </div>\n",
              "  "
            ]
          },
          "metadata": {},
          "execution_count": 58
        }
      ]
    },
    {
      "cell_type": "markdown",
      "source": [
        "#### Training 데이터 중 Tanimoto 유사도가 0.9 이상인 분자가 있는 후보물질을 제외한 나머지 가운데 10개의 compound를 final candidate로 선정"
      ],
      "metadata": {
        "id": "VnXywfLFdIBk"
      }
    },
    {
      "cell_type": "code",
      "source": [
        "final_candidates = candidates[candidates.max_tanimoto_similarity<0.9]\n",
        "final_candidates = final_candidates.head(10)\n",
        "final_candidates"
      ],
      "metadata": {
        "id": "ikLwFrbjdJKG",
        "colab": {
          "base_uri": "https://localhost:8080/",
          "height": 363
        },
        "outputId": "1a290af2-a7c9-43d2-c462-5e406b82a54f"
      },
      "execution_count": 59,
      "outputs": [
        {
          "output_type": "execute_result",
          "data": {
            "text/plain": [
              "                zinc_id                                             smiles  \\\n",
              "34005  ZINC000049678415  C[C@H](Nc1nccc(-n2cnc3cc(-c4ccnc(N)n4)ccc32)n1...   \n",
              "1734   ZINC000299854912  Cc1c(NC(=O)c2ccc(C(C)(C)C)cc2)cccc1-c1cn(C)c(=...   \n",
              "1735   ZINC000299854917  Cc1c(NC(=O)c2ccc(C(C)(C)C)cc2)cccc1-c1cn(C)c(=...   \n",
              "67663  ZINC000034799979  CS(=O)(=O)CCNC(=O)NCc1cccc(C#Cc2cncnc2Nc2ccc(O...   \n",
              "65010  ZINC000034799979  CS(=O)(=O)CCNC(=O)NCc1cccc(C#Cc2cncnc2Nc2ccc(O...   \n",
              "34007  ZINC000095536738  C[C@H](Nc1nccc(-n2cnc3cc(-c4ccncc4)ccc32)n1)[C...   \n",
              "34030  ZINC000049678968  CCN1CCN(c2ccc3c(c2)ncn3-c2ccnc(N[C@@H](C)[C@@H...   \n",
              "52625  ZINC000169300428  CC(C)C[C@@H]1NC(=O)CN(CCC(=O)NCCc2c[nH]c3ccccc...   \n",
              "60406  ZINC000169354415  CC[C@H](C)[C@H](NC(=O)[C@H](CS)NC(C)=O)C(=O)N[...   \n",
              "22032  ZINC000253908035  COc1cc2c(Nc3ccc(Cl)cc3F)ncnc2cc1OCCOCCNC(=O)[C...   \n",
              "\n",
              "       max_tanimoto_similarity  predicted_pIC50  \n",
              "34005                 0.202830        11.546148  \n",
              "1734                  0.175182        11.157328  \n",
              "1735                  0.175182        11.157328  \n",
              "67663                 0.188235        10.804908  \n",
              "65010                 0.188235        10.804908  \n",
              "34007                 0.197917        10.779299  \n",
              "34030                 0.198925        10.696426  \n",
              "52625                 0.175627        10.459738  \n",
              "60406                 0.158416        10.402020  \n",
              "22032                 0.173585        10.381171  "
            ],
            "text/html": [
              "\n",
              "  <div id=\"df-34df64c9-3a7e-4e05-ac9f-9cfaf303e38b\">\n",
              "    <div class=\"colab-df-container\">\n",
              "      <div>\n",
              "<style scoped>\n",
              "    .dataframe tbody tr th:only-of-type {\n",
              "        vertical-align: middle;\n",
              "    }\n",
              "\n",
              "    .dataframe tbody tr th {\n",
              "        vertical-align: top;\n",
              "    }\n",
              "\n",
              "    .dataframe thead th {\n",
              "        text-align: right;\n",
              "    }\n",
              "</style>\n",
              "<table border=\"1\" class=\"dataframe\">\n",
              "  <thead>\n",
              "    <tr style=\"text-align: right;\">\n",
              "      <th></th>\n",
              "      <th>zinc_id</th>\n",
              "      <th>smiles</th>\n",
              "      <th>max_tanimoto_similarity</th>\n",
              "      <th>predicted_pIC50</th>\n",
              "    </tr>\n",
              "  </thead>\n",
              "  <tbody>\n",
              "    <tr>\n",
              "      <th>34005</th>\n",
              "      <td>ZINC000049678415</td>\n",
              "      <td>C[C@H](Nc1nccc(-n2cnc3cc(-c4ccnc(N)n4)ccc32)n1...</td>\n",
              "      <td>0.202830</td>\n",
              "      <td>11.546148</td>\n",
              "    </tr>\n",
              "    <tr>\n",
              "      <th>1734</th>\n",
              "      <td>ZINC000299854912</td>\n",
              "      <td>Cc1c(NC(=O)c2ccc(C(C)(C)C)cc2)cccc1-c1cn(C)c(=...</td>\n",
              "      <td>0.175182</td>\n",
              "      <td>11.157328</td>\n",
              "    </tr>\n",
              "    <tr>\n",
              "      <th>1735</th>\n",
              "      <td>ZINC000299854917</td>\n",
              "      <td>Cc1c(NC(=O)c2ccc(C(C)(C)C)cc2)cccc1-c1cn(C)c(=...</td>\n",
              "      <td>0.175182</td>\n",
              "      <td>11.157328</td>\n",
              "    </tr>\n",
              "    <tr>\n",
              "      <th>67663</th>\n",
              "      <td>ZINC000034799979</td>\n",
              "      <td>CS(=O)(=O)CCNC(=O)NCc1cccc(C#Cc2cncnc2Nc2ccc(O...</td>\n",
              "      <td>0.188235</td>\n",
              "      <td>10.804908</td>\n",
              "    </tr>\n",
              "    <tr>\n",
              "      <th>65010</th>\n",
              "      <td>ZINC000034799979</td>\n",
              "      <td>CS(=O)(=O)CCNC(=O)NCc1cccc(C#Cc2cncnc2Nc2ccc(O...</td>\n",
              "      <td>0.188235</td>\n",
              "      <td>10.804908</td>\n",
              "    </tr>\n",
              "    <tr>\n",
              "      <th>34007</th>\n",
              "      <td>ZINC000095536738</td>\n",
              "      <td>C[C@H](Nc1nccc(-n2cnc3cc(-c4ccncc4)ccc32)n1)[C...</td>\n",
              "      <td>0.197917</td>\n",
              "      <td>10.779299</td>\n",
              "    </tr>\n",
              "    <tr>\n",
              "      <th>34030</th>\n",
              "      <td>ZINC000049678968</td>\n",
              "      <td>CCN1CCN(c2ccc3c(c2)ncn3-c2ccnc(N[C@@H](C)[C@@H...</td>\n",
              "      <td>0.198925</td>\n",
              "      <td>10.696426</td>\n",
              "    </tr>\n",
              "    <tr>\n",
              "      <th>52625</th>\n",
              "      <td>ZINC000169300428</td>\n",
              "      <td>CC(C)C[C@@H]1NC(=O)CN(CCC(=O)NCCc2c[nH]c3ccccc...</td>\n",
              "      <td>0.175627</td>\n",
              "      <td>10.459738</td>\n",
              "    </tr>\n",
              "    <tr>\n",
              "      <th>60406</th>\n",
              "      <td>ZINC000169354415</td>\n",
              "      <td>CC[C@H](C)[C@H](NC(=O)[C@H](CS)NC(C)=O)C(=O)N[...</td>\n",
              "      <td>0.158416</td>\n",
              "      <td>10.402020</td>\n",
              "    </tr>\n",
              "    <tr>\n",
              "      <th>22032</th>\n",
              "      <td>ZINC000253908035</td>\n",
              "      <td>COc1cc2c(Nc3ccc(Cl)cc3F)ncnc2cc1OCCOCCNC(=O)[C...</td>\n",
              "      <td>0.173585</td>\n",
              "      <td>10.381171</td>\n",
              "    </tr>\n",
              "  </tbody>\n",
              "</table>\n",
              "</div>\n",
              "      <button class=\"colab-df-convert\" onclick=\"convertToInteractive('df-34df64c9-3a7e-4e05-ac9f-9cfaf303e38b')\"\n",
              "              title=\"Convert this dataframe to an interactive table.\"\n",
              "              style=\"display:none;\">\n",
              "        \n",
              "  <svg xmlns=\"http://www.w3.org/2000/svg\" height=\"24px\"viewBox=\"0 0 24 24\"\n",
              "       width=\"24px\">\n",
              "    <path d=\"M0 0h24v24H0V0z\" fill=\"none\"/>\n",
              "    <path d=\"M18.56 5.44l.94 2.06.94-2.06 2.06-.94-2.06-.94-.94-2.06-.94 2.06-2.06.94zm-11 1L8.5 8.5l.94-2.06 2.06-.94-2.06-.94L8.5 2.5l-.94 2.06-2.06.94zm10 10l.94 2.06.94-2.06 2.06-.94-2.06-.94-.94-2.06-.94 2.06-2.06.94z\"/><path d=\"M17.41 7.96l-1.37-1.37c-.4-.4-.92-.59-1.43-.59-.52 0-1.04.2-1.43.59L10.3 9.45l-7.72 7.72c-.78.78-.78 2.05 0 2.83L4 21.41c.39.39.9.59 1.41.59.51 0 1.02-.2 1.41-.59l7.78-7.78 2.81-2.81c.8-.78.8-2.07 0-2.86zM5.41 20L4 18.59l7.72-7.72 1.47 1.35L5.41 20z\"/>\n",
              "  </svg>\n",
              "      </button>\n",
              "      \n",
              "  <style>\n",
              "    .colab-df-container {\n",
              "      display:flex;\n",
              "      flex-wrap:wrap;\n",
              "      gap: 12px;\n",
              "    }\n",
              "\n",
              "    .colab-df-convert {\n",
              "      background-color: #E8F0FE;\n",
              "      border: none;\n",
              "      border-radius: 50%;\n",
              "      cursor: pointer;\n",
              "      display: none;\n",
              "      fill: #1967D2;\n",
              "      height: 32px;\n",
              "      padding: 0 0 0 0;\n",
              "      width: 32px;\n",
              "    }\n",
              "\n",
              "    .colab-df-convert:hover {\n",
              "      background-color: #E2EBFA;\n",
              "      box-shadow: 0px 1px 2px rgba(60, 64, 67, 0.3), 0px 1px 3px 1px rgba(60, 64, 67, 0.15);\n",
              "      fill: #174EA6;\n",
              "    }\n",
              "\n",
              "    [theme=dark] .colab-df-convert {\n",
              "      background-color: #3B4455;\n",
              "      fill: #D2E3FC;\n",
              "    }\n",
              "\n",
              "    [theme=dark] .colab-df-convert:hover {\n",
              "      background-color: #434B5C;\n",
              "      box-shadow: 0px 1px 3px 1px rgba(0, 0, 0, 0.15);\n",
              "      filter: drop-shadow(0px 1px 2px rgba(0, 0, 0, 0.3));\n",
              "      fill: #FFFFFF;\n",
              "    }\n",
              "  </style>\n",
              "\n",
              "      <script>\n",
              "        const buttonEl =\n",
              "          document.querySelector('#df-34df64c9-3a7e-4e05-ac9f-9cfaf303e38b button.colab-df-convert');\n",
              "        buttonEl.style.display =\n",
              "          google.colab.kernel.accessAllowed ? 'block' : 'none';\n",
              "\n",
              "        async function convertToInteractive(key) {\n",
              "          const element = document.querySelector('#df-34df64c9-3a7e-4e05-ac9f-9cfaf303e38b');\n",
              "          const dataTable =\n",
              "            await google.colab.kernel.invokeFunction('convertToInteractive',\n",
              "                                                     [key], {});\n",
              "          if (!dataTable) return;\n",
              "\n",
              "          const docLinkHtml = 'Like what you see? Visit the ' +\n",
              "            '<a target=\"_blank\" href=https://colab.research.google.com/notebooks/data_table.ipynb>data table notebook</a>'\n",
              "            + ' to learn more about interactive tables.';\n",
              "          element.innerHTML = '';\n",
              "          dataTable['output_type'] = 'display_data';\n",
              "          await google.colab.output.renderOutput(dataTable, element);\n",
              "          const docLink = document.createElement('div');\n",
              "          docLink.innerHTML = docLinkHtml;\n",
              "          element.appendChild(docLink);\n",
              "        }\n",
              "      </script>\n",
              "    </div>\n",
              "  </div>\n",
              "  "
            ]
          },
          "metadata": {},
          "execution_count": 59
        }
      ]
    }
  ]
}